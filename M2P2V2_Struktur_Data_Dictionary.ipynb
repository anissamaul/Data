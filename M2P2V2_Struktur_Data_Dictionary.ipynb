{
  "nbformat": 4,
  "nbformat_minor": 0,
  "metadata": {
    "colab": {
      "name": "M2P2V2_Struktur_Data_Dictionary.ipynb",
      "provenance": [],
      "collapsed_sections": []
    },
    "kernelspec": {
      "name": "python3",
      "display_name": "Python 3"
    },
    "language_info": {
      "name": "python"
    }
  },
  "cells": [
    {
      "cell_type": "markdown",
      "metadata": {
        "id": "0aHr7Sh_Awul"
      },
      "source": [
        "##Dictionary"
      ]
    },
    {
      "cell_type": "markdown",
      "metadata": {
        "id": "b-tzzuWwA1Jq"
      },
      "source": [
        "Dictionary pada Python adalah kumpulan pasangan kunci-nilai (pair of key-value) yang bersifat tidak berurutan. Dictionary dapat digunakan untuk menyimpan data kecil hingga besar. Untuk mengakses datanya, kita harus mengetahui kuncinya (key). PAda Python, dictionary didefinisikan dengan kurawal dan tambahan definisi berikut :\n",
        "*   Setiap elemen pair key-value dipisahkan dengan koma (,).\n",
        "*   Key dan Value dipisahkan dengan titik dua (:).\n",
        "*   Key dan Value dapat berupa tipe variabel/obyek apapun.\n",
        "\n",
        "\n",
        "\n",
        "\n",
        "\n"
      ]
    },
    {
      "cell_type": "code",
      "metadata": {
        "id": "rUUVFgy5CQmw"
      },
      "source": [
        "L1 = [1,'dua',True,(2+3j),(2+3j)]"
      ],
      "execution_count": 14,
      "outputs": []
    },
    {
      "cell_type": "code",
      "metadata": {
        "id": "ImaXZFLpCz5q",
        "colab": {
          "base_uri": "https://localhost:8080/"
        },
        "outputId": "8caad3e6-2e6c-4c03-ccb8-358b7b796064"
      },
      "source": [
        "L1"
      ],
      "execution_count": 15,
      "outputs": [
        {
          "output_type": "execute_result",
          "data": {
            "text/plain": [
              "[1, 'dua', True, (2+3j), (2+3j)]"
            ]
          },
          "metadata": {},
          "execution_count": 15
        }
      ]
    },
    {
      "cell_type": "code",
      "metadata": {
        "id": "VEY4__LdC3CK",
        "colab": {
          "base_uri": "https://localhost:8080/"
        },
        "outputId": "c6441372-f50b-48c2-e35f-75a5804a8f88"
      },
      "source": [
        "# {'KEY':'VALUE'}\n",
        "#Contoh Dictionary\n",
        "D1 = {1:'value','key':2}\n",
        "\n",
        "print(D1)"
      ],
      "execution_count": 16,
      "outputs": [
        {
          "output_type": "stream",
          "name": "stdout",
          "text": [
            "{1: 'value', 'key': 2}\n"
          ]
        }
      ]
    },
    {
      "cell_type": "markdown",
      "metadata": {
        "id": "qavDqVTMDQny"
      },
      "source": [
        "##Latihan 1"
      ]
    },
    {
      "cell_type": "code",
      "metadata": {
        "id": "fzijSVVWDSpi",
        "colab": {
          "base_uri": "https://localhost:8080/"
        },
        "outputId": "e7650a25-a6d6-4b39-9f90-359c4a678ccb"
      },
      "source": [
        "# Buatlah Struktur data dictionary kalian sendiri\n",
        "\n",
        "D2 = {'lys Her':'mic drop','lys Tear': 'magic shop','lys Answer':'love myself'}\n",
        "\n",
        "print(D2)"
      ],
      "execution_count": 17,
      "outputs": [
        {
          "output_type": "stream",
          "name": "stdout",
          "text": [
            "{'lys Her': 'mic drop', 'lys Tear': 'magic shop', 'lys Answer': 'love myself'}\n"
          ]
        }
      ]
    },
    {
      "cell_type": "code",
      "metadata": {
        "id": "pu_kmvh-G6om",
        "colab": {
          "base_uri": "https://localhost:8080/"
        },
        "outputId": "277cbfa4-87ee-4955-c1e4-dc7cf5b9647d"
      },
      "source": [
        "L1[0]"
      ],
      "execution_count": 18,
      "outputs": [
        {
          "output_type": "execute_result",
          "data": {
            "text/plain": [
              "1"
            ]
          },
          "metadata": {},
          "execution_count": 18
        }
      ]
    },
    {
      "cell_type": "code",
      "metadata": {
        "id": "QwPqkFXXEigK",
        "colab": {
          "base_uri": "https://localhost:8080/"
        },
        "outputId": "31a59e57-b573-41a3-fefa-33ef04aec869"
      },
      "source": [
        "D1['key']"
      ],
      "execution_count": 19,
      "outputs": [
        {
          "output_type": "execute_result",
          "data": {
            "text/plain": [
              "2"
            ]
          },
          "metadata": {},
          "execution_count": 19
        }
      ]
    },
    {
      "cell_type": "code",
      "metadata": {
        "id": "U93vmahgEnwq",
        "colab": {
          "base_uri": "https://localhost:8080/"
        },
        "outputId": "e817390b-b258-49e0-a877-4bcdf6af785f"
      },
      "source": [
        "#Memanggil Elemen Berdasarkan Key\n",
        "print(\"D1['key'] = \", D1['key']);"
      ],
      "execution_count": 20,
      "outputs": [
        {
          "output_type": "stream",
          "name": "stdout",
          "text": [
            "D1['key'] =  2\n"
          ]
        }
      ]
    },
    {
      "cell_type": "markdown",
      "metadata": {
        "id": "M_5it2oNFL8q"
      },
      "source": [
        "Dictionary bukan termasuk dalam implementasi urutan (sequences), sehingga tidak bisa dengan urutan indeks. Misalnya dalam contoh berikut dicoba dengan indeks 2, tetapi menghasilakn error (KeyError) karena tidak ada kunci (key)2 :"
      ]
    },
    {
      "cell_type": "code",
      "metadata": {
        "id": "WCEA7pVXFl1K",
        "colab": {
          "base_uri": "https://localhost:8080/",
          "height": 180
        },
        "outputId": "a0a5a9bc-5839-4cf8-e61f-09c266a17935"
      },
      "source": [
        "# Nyobain error\n",
        "print(\"D1[2] = \", D1[2]);"
      ],
      "execution_count": 21,
      "outputs": [
        {
          "output_type": "error",
          "ename": "KeyError",
          "evalue": "ignored",
          "traceback": [
            "\u001b[0;31m---------------------------------------------------------------------------\u001b[0m",
            "\u001b[0;31mKeyError\u001b[0m                                  Traceback (most recent call last)",
            "\u001b[0;32m<ipython-input-21-ae22d9dd352a>\u001b[0m in \u001b[0;36m<module>\u001b[0;34m()\u001b[0m\n\u001b[1;32m      1\u001b[0m \u001b[0;31m# Nyobain error\u001b[0m\u001b[0;34m\u001b[0m\u001b[0;34m\u001b[0m\u001b[0;34m\u001b[0m\u001b[0m\n\u001b[0;32m----> 2\u001b[0;31m \u001b[0mprint\u001b[0m\u001b[0;34m(\u001b[0m\u001b[0;34m\"D1[2] = \"\u001b[0m\u001b[0;34m,\u001b[0m \u001b[0mD1\u001b[0m\u001b[0;34m[\u001b[0m\u001b[0;36m2\u001b[0m\u001b[0;34m]\u001b[0m\u001b[0;34m)\u001b[0m\u001b[0;34m;\u001b[0m\u001b[0;34m\u001b[0m\u001b[0;34m\u001b[0m\u001b[0m\n\u001b[0m",
            "\u001b[0;31mKeyError\u001b[0m: 2"
          ]
        }
      ]
    },
    {
      "cell_type": "markdown",
      "metadata": {
        "id": "yLMZsZmbFwus"
      },
      "source": [
        "##Latihan 2"
      ]
    },
    {
      "cell_type": "code",
      "metadata": {
        "id": "lL1oXTrsFy8U",
        "colab": {
          "base_uri": "https://localhost:8080/"
        },
        "outputId": "79164c64-d536-43c3-cdda-5afb7a1368b7"
      },
      "source": [
        "# Panggil salah satu key dan value pada dictionary yang kalian buat\n",
        "print(D2['lys Answer']);\n",
        "print(D2['lys Her']);"
      ],
      "execution_count": 22,
      "outputs": [
        {
          "output_type": "stream",
          "name": "stdout",
          "text": [
            "love myself\n",
            "mic drop\n"
          ]
        }
      ]
    }
  ]
}