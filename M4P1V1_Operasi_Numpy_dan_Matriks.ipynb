{
  "nbformat": 4,
  "nbformat_minor": 0,
  "metadata": {
    "colab": {
      "name": "M4P1V1_Operasi_Numpy_dan_Matriks.ipynb",
      "provenance": [],
      "collapsed_sections": []
    },
    "kernelspec": {
      "name": "python3",
      "display_name": "Python 3"
    },
    "language_info": {
      "name": "python"
    }
  },
  "cells": [
    {
      "cell_type": "markdown",
      "metadata": {
        "id": "oPz--Vegbui6"
      },
      "source": [
        "# Numpy Array"
      ]
    },
    {
      "cell_type": "markdown",
      "metadata": {
        "id": "s-hNCbDwbyMQ"
      },
      "source": [
        "NumPy merupakan salah satu library Python yang banyak digunakan dalam proses analisis data karena fiturnya yang hebat"
      ]
    },
    {
      "cell_type": "code",
      "metadata": {
        "id": "kluc2ZICb8pW"
      },
      "source": [
        "import numpy as np"
      ],
      "execution_count": 3,
      "outputs": []
    },
    {
      "cell_type": "markdown",
      "metadata": {
        "id": "YHUPiUSEb9Zx"
      },
      "source": [
        "## Membuat Array NumPy\n",
        "\n",
        "Kita bisa membuat Array menggunakan NumPy dengan membungkusnya terlebih dahulu di List dan dirubah menjadi numpy array."
      ]
    },
    {
      "cell_type": "code",
      "metadata": {
        "id": "oOvEx9QPcDBc",
        "colab": {
          "base_uri": "https://localhost:8080/"
        },
        "outputId": "09f93b9e-da1e-4324-c51e-35f76745e3dc"
      },
      "source": [
        "list_1 = [1,2,3,4,5]\n",
        "arr_1 = np.array([list_1])\n",
        "arr_1"
      ],
      "execution_count": 4,
      "outputs": [
        {
          "output_type": "execute_result",
          "data": {
            "text/plain": [
              "array([[1, 2, 3, 4, 5]])"
            ]
          },
          "metadata": {},
          "execution_count": 4
        }
      ]
    },
    {
      "cell_type": "markdown",
      "metadata": {
        "id": "Vi68thjtcD0V"
      },
      "source": [
        "Beberapa fungsi yang dapat digunakan dalam membuat array \n",
        "\n",
        "```\n",
        "zeros()    -> Membuat array dengan nilai 0\n",
        "ones()     -> Membuat array dengan nilai 1\n",
        "arange()   -> Membuat array dengan nilai dalam range \n",
        "linspace() -> Membuat array dengan nilai dalam interval\n",
        "logspace() -> Membuat array dengan nilai log Base10 dalam interval\n",
        "full       -> Membuat array dengan semua elemen penyusunnya sama\n",
        "full_like  -> Membuat array dengan semua elemen penyusunnya sama namun ukurannya dari array lainnya\n",
        "identity   -> Membuat array matriks identitas\n",
        "repeat     -> Membuat array dengan perulangan array atau sequence \n",
        "```\n",
        "\n"
      ]
    },
    {
      "cell_type": "code",
      "metadata": {
        "id": "3ebzZeDAccTx",
        "colab": {
          "base_uri": "https://localhost:8080/"
        },
        "outputId": "bace49ac-aaf5-4cd9-b43a-c1d7d0bc1991"
      },
      "source": [
        "print(np.zeros((2,5))) # membuat array dengan nilai 0 dengan shape (5,5)"
      ],
      "execution_count": 5,
      "outputs": [
        {
          "output_type": "stream",
          "name": "stdout",
          "text": [
            "[[0. 0. 0. 0. 0.]\n",
            " [0. 0. 0. 0. 0.]]\n"
          ]
        }
      ]
    },
    {
      "cell_type": "code",
      "metadata": {
        "id": "wQFflehxcdJx",
        "colab": {
          "base_uri": "https://localhost:8080/"
        },
        "outputId": "fb459844-7202-4d6a-f000-f2cf4283b21a"
      },
      "source": [
        "print(np.ones((5,3))) # membuat array dengan nilai 1 dengan shape (5,5)"
      ],
      "execution_count": 6,
      "outputs": [
        {
          "output_type": "stream",
          "name": "stdout",
          "text": [
            "[[1. 1. 1.]\n",
            " [1. 1. 1.]\n",
            " [1. 1. 1.]\n",
            " [1. 1. 1.]\n",
            " [1. 1. 1.]]\n"
          ]
        }
      ]
    },
    {
      "cell_type": "code",
      "metadata": {
        "id": "unxuX-WDch3A",
        "colab": {
          "base_uri": "https://localhost:8080/"
        },
        "outputId": "c5221db5-0662-4647-de73-e91a2c5017e3"
      },
      "source": [
        "print(np.arange(1, 10, 2)) #arange(start, stop, step)"
      ],
      "execution_count": 7,
      "outputs": [
        {
          "output_type": "stream",
          "name": "stdout",
          "text": [
            "[1 3 5 7 9]\n"
          ]
        }
      ]
    },
    {
      "cell_type": "code",
      "metadata": {
        "id": "BGAJ2-sSckYX",
        "colab": {
          "base_uri": "https://localhost:8080/"
        },
        "outputId": "f8b8897f-41fd-458a-c5e4-4bc993592758"
      },
      "source": [
        "print(np.linspace(1, 10, 2)) # linespace(start, stop, number)"
      ],
      "execution_count": 8,
      "outputs": [
        {
          "output_type": "stream",
          "name": "stdout",
          "text": [
            "[ 1. 10.]\n"
          ]
        }
      ]
    },
    {
      "cell_type": "code",
      "metadata": {
        "id": "wdD4Jwq-cmw3",
        "colab": {
          "base_uri": "https://localhost:8080/"
        },
        "outputId": "fcf6da1f-b516-4a21-8c4b-7f9d5edee0f4"
      },
      "source": [
        "print(np.logspace(1, 10, 2)) # logspace(start, stop, number)"
      ],
      "execution_count": 9,
      "outputs": [
        {
          "output_type": "stream",
          "name": "stdout",
          "text": [
            "[1.e+01 1.e+10]\n"
          ]
        }
      ]
    },
    {
      "cell_type": "code",
      "metadata": {
        "id": "lBJDIzhRco3K",
        "colab": {
          "base_uri": "https://localhost:8080/"
        },
        "outputId": "c1974627-569b-4fac-e81f-d82dd355871a"
      },
      "source": [
        "print(np.full((2,2), 4)) # Membuat array matriks dengan shape (2,2) dengan elemen 99"
      ],
      "execution_count": 10,
      "outputs": [
        {
          "output_type": "stream",
          "name": "stdout",
          "text": [
            "[[4 4]\n",
            " [4 4]]\n"
          ]
        }
      ]
    },
    {
      "cell_type": "code",
      "metadata": {
        "id": "srnbeNlocrZe",
        "colab": {
          "base_uri": "https://localhost:8080/"
        },
        "outputId": "2bd9d19a-df71-48db-ac04-704eee877fed"
      },
      "source": [
        "A = np.array([[1,2,3,4,5,6,7],[8,9,10,11,12,13,14]])\n",
        "print(A)\n",
        "\n",
        "print(np.full_like(A, 3)) # Membuat array matriks dengan shape yang sama dengan A dengan semua elemennya 4"
      ],
      "execution_count": 11,
      "outputs": [
        {
          "output_type": "stream",
          "name": "stdout",
          "text": [
            "[[ 1  2  3  4  5  6  7]\n",
            " [ 8  9 10 11 12 13 14]]\n",
            "[[3 3 3 3 3 3 3]\n",
            " [3 3 3 3 3 3 3]]\n"
          ]
        }
      ]
    },
    {
      "cell_type": "code",
      "metadata": {
        "id": "_0Na8Z1ActiP",
        "colab": {
          "base_uri": "https://localhost:8080/"
        },
        "outputId": "dba535a2-7342-4c95-c6fc-5e6e2618ff8c"
      },
      "source": [
        "print(np.random.rand(4,2)) # Random decimal numbers"
      ],
      "execution_count": 12,
      "outputs": [
        {
          "output_type": "stream",
          "name": "stdout",
          "text": [
            "[[0.14082602 0.45464246]\n",
            " [0.0585354  0.88753431]\n",
            " [0.89837904 0.12955923]\n",
            " [0.30225623 0.74111339]]\n"
          ]
        }
      ]
    },
    {
      "cell_type": "code",
      "metadata": {
        "id": "Pi3KtmAFcvqH",
        "colab": {
          "base_uri": "https://localhost:8080/"
        },
        "outputId": "7aa79166-2405-408b-9bd0-cf16134991cd"
      },
      "source": [
        "print(np.random.randint(-4,8, size=(3,3))) # Random Integer values"
      ],
      "execution_count": 13,
      "outputs": [
        {
          "output_type": "stream",
          "name": "stdout",
          "text": [
            "[[-1  5 -2]\n",
            " [-1  3  4]\n",
            " [ 4 -1  4]]\n"
          ]
        }
      ]
    },
    {
      "cell_type": "code",
      "metadata": {
        "id": "56pz-Dl3cxhX",
        "colab": {
          "base_uri": "https://localhost:8080/"
        },
        "outputId": "00ff824d-2c0e-4084-a46f-b7b8e29f4089"
      },
      "source": [
        "print(np.identity(5)) # Membuat matriks identitas"
      ],
      "execution_count": 14,
      "outputs": [
        {
          "output_type": "stream",
          "name": "stdout",
          "text": [
            "[[1. 0. 0. 0. 0.]\n",
            " [0. 1. 0. 0. 0.]\n",
            " [0. 0. 1. 0. 0.]\n",
            " [0. 0. 0. 1. 0.]\n",
            " [0. 0. 0. 0. 1.]]\n"
          ]
        }
      ]
    },
    {
      "cell_type": "code",
      "metadata": {
        "id": "o8YEsmTzczN-",
        "colab": {
          "base_uri": "https://localhost:8080/"
        },
        "outputId": "b1a2de27-703b-468b-c88e-d1a20899c396"
      },
      "source": [
        "arr = np.array([[1,2,3]]) # Membuat matriks dengan perulangan array\n",
        "r1 = np.repeat(arr,3, axis=0)\n",
        "print(r1)"
      ],
      "execution_count": 15,
      "outputs": [
        {
          "output_type": "stream",
          "name": "stdout",
          "text": [
            "[[1 2 3]\n",
            " [1 2 3]\n",
            " [1 2 3]]\n"
          ]
        }
      ]
    },
    {
      "cell_type": "markdown",
      "metadata": {
        "id": "be2Rpcj3dBEB"
      },
      "source": [
        "## Metode-metode pada Array"
      ]
    },
    {
      "cell_type": "markdown",
      "metadata": {
        "id": "sB_GNDsydeM1"
      },
      "source": [
        "Objek array pada Python Numpy memiliki berbagai method untuk melakukan operasi atau perintah-perintah tertentu. Berikut adalah fungsi-fungsi yang merupakan metode pada array yang sering dipakai:"
      ]
    },
    {
      "cell_type": "markdown",
      "metadata": {
        "id": "ChPBZJ5RdjNe"
      },
      "source": [
        "**array.ndim**\n",
        "\n",
        "Metode ini digunakan untuk mengetahui dimensi dari array."
      ]
    },
    {
      "cell_type": "code",
      "metadata": {
        "id": "XT3UkR-zdson",
        "colab": {
          "base_uri": "https://localhost:8080/"
        },
        "outputId": "6f1eb182-a2a2-4d49-f1da-eb536d2ec306"
      },
      "source": [
        "a=np.array([29, 28, 30], dtype='int32')\n",
        "print(a)\n",
        "\n",
        "print(\"Dimensi dari array a adalah \", a.ndim)"
      ],
      "execution_count": 16,
      "outputs": [
        {
          "output_type": "stream",
          "name": "stdout",
          "text": [
            "[29 28 30]\n",
            "Dimensi dari array a adalah  1\n"
          ]
        }
      ]
    },
    {
      "cell_type": "markdown",
      "metadata": {
        "id": "sJeFTtaHdvkP"
      },
      "source": [
        "**array.shape**\n",
        "\n",
        "Metode ini digunakan untuk mengetahui ukuran (variabel dan baris) dari array."
      ]
    },
    {
      "cell_type": "code",
      "metadata": {
        "id": "H2p_2_xEdwXw",
        "colab": {
          "base_uri": "https://localhost:8080/"
        },
        "outputId": "a986943c-a8af-4140-c2ac-bd9b0186073f"
      },
      "source": [
        "b = np.array([[9.0,8.0,7.0],[6.0,5.0,4.0]])\n",
        "print(b)\n",
        "\n",
        "print(\"Ukuran Shape dari array b adalah \", b.shape)"
      ],
      "execution_count": 17,
      "outputs": [
        {
          "output_type": "stream",
          "name": "stdout",
          "text": [
            "[[9. 8. 7.]\n",
            " [6. 5. 4.]]\n",
            "Ukuran Shape dari array b adalah  (2, 3)\n"
          ]
        }
      ]
    },
    {
      "cell_type": "markdown",
      "metadata": {
        "id": "kRRjZLpaefSG"
      },
      "source": [
        "**array.dtype**\n",
        "\n",
        "Metode ini digunakan untuk mengetahui type data dari elemen penyusun array."
      ]
    },
    {
      "cell_type": "code",
      "metadata": {
        "id": "t6i1rwMYejKq",
        "colab": {
          "base_uri": "https://localhost:8080/"
        },
        "outputId": "6080980d-3b8b-4171-e35c-0f37400819f1"
      },
      "source": [
        "a.dtype"
      ],
      "execution_count": 18,
      "outputs": [
        {
          "output_type": "execute_result",
          "data": {
            "text/plain": [
              "dtype('int32')"
            ]
          },
          "metadata": {},
          "execution_count": 18
        }
      ]
    },
    {
      "cell_type": "markdown",
      "metadata": {
        "id": "nj_ZTChvem5J"
      },
      "source": [
        "**array.size**\n",
        "\n",
        "Metode ini digunakan untuk menghitung jumlah elemen dari array."
      ]
    },
    {
      "cell_type": "code",
      "metadata": {
        "id": "hsR0yGK0en2N",
        "colab": {
          "base_uri": "https://localhost:8080/"
        },
        "outputId": "f04a4a75-68ae-487c-d628-f82a6af0ebd7"
      },
      "source": [
        "a.size"
      ],
      "execution_count": 19,
      "outputs": [
        {
          "output_type": "execute_result",
          "data": {
            "text/plain": [
              "3"
            ]
          },
          "metadata": {},
          "execution_count": 19
        }
      ]
    },
    {
      "cell_type": "markdown",
      "metadata": {
        "id": "WJKIyxkResC-"
      },
      "source": [
        "## Multidimensional Array\n",
        "\n",
        "Salah satu fitur menarik dari NumPy adalah dia mampu membuat multidimensional array dan melakukan manipulasi array dengan mudah dan cepat\n",
        "\n",
        "Multidimensional array adalah array yang berbentuk lebih dari 1 dimensi (1D), bisa 2D, 3D, 4D dan seterusnya\n",
        "\n",
        "Cara membuat multidimensional array sama dengan membuat array 1 dimensi, perbedaannya hanya pada parameter yang digunakan\n",
        "\n",
        "Berikut contohnya membuat array 2 dimensi"
      ]
    },
    {
      "cell_type": "code",
      "metadata": {
        "id": "-DEXDkQtevgW",
        "colab": {
          "base_uri": "https://localhost:8080/"
        },
        "outputId": "e72a92d2-6ffd-4f85-c24a-82bb4cb633a5"
      },
      "source": [
        "arr_2 = np.array([[1,2,3,4,5], [2,4,6,8,10]])\n",
        "arr_2"
      ],
      "execution_count": 20,
      "outputs": [
        {
          "output_type": "execute_result",
          "data": {
            "text/plain": [
              "array([[ 1,  2,  3,  4,  5],\n",
              "       [ 2,  4,  6,  8, 10]])"
            ]
          },
          "metadata": {},
          "execution_count": 20
        }
      ]
    },
    {
      "cell_type": "markdown",
      "metadata": {
        "id": "vLye0jqaeyFP"
      },
      "source": [
        "Array diatas adalah berbentuk (2,5) artinya mempunyai 2 baris dan 5 kolom\n",
        "\n",
        "Kita bisa melihat jumlah elemen di setiap dimensi dengan menggunakan shape"
      ]
    },
    {
      "cell_type": "code",
      "metadata": {
        "id": "HXw9gURNe1FQ",
        "colab": {
          "base_uri": "https://localhost:8080/"
        },
        "outputId": "68a34050-8397-42bb-b05f-a4bb4f102223"
      },
      "source": [
        "arr_2.shape"
      ],
      "execution_count": 21,
      "outputs": [
        {
          "output_type": "execute_result",
          "data": {
            "text/plain": [
              "(2, 5)"
            ]
          },
          "metadata": {},
          "execution_count": 21
        }
      ]
    },
    {
      "cell_type": "markdown",
      "metadata": {
        "id": "lwZPpslIe4Q5"
      },
      "source": [
        "## Indexing dan Slicing\n",
        "\n",
        "Kita juga dapat melakukan indexing dan slicing terhadap array dengan mudah\n",
        "\n",
        "Indexing dimulai dari 0 dan dimulai dengan notasi bracket “[ ]”\n",
        "\n",
        "Misal kita ingin mencari nilai yang berada di index 0, 2, dan 4"
      ]
    },
    {
      "cell_type": "code",
      "metadata": {
        "id": "N3PbR3xve7jG",
        "colab": {
          "base_uri": "https://localhost:8080/"
        },
        "outputId": "f3fccf3f-573e-4cd7-c821-2d10f5d94f60"
      },
      "source": [
        "arr_3 = np.array([1,2,3,4,5])\n",
        "print(arr_3[0])\n",
        "print(arr_3[2])\n",
        "print(arr_3[4])"
      ],
      "execution_count": 22,
      "outputs": [
        {
          "output_type": "stream",
          "name": "stdout",
          "text": [
            "1\n",
            "3\n",
            "5\n"
          ]
        }
      ]
    },
    {
      "cell_type": "markdown",
      "metadata": {
        "id": "ftPpeHnhe9_G"
      },
      "source": [
        "Untuk mengambil nilai berderet tambahkan “:”"
      ]
    },
    {
      "cell_type": "code",
      "metadata": {
        "id": "mHl2Bj0gfBX4",
        "colab": {
          "base_uri": "https://localhost:8080/"
        },
        "outputId": "23a4cb0a-b9e4-45a1-ba0d-4bb53c35a959"
      },
      "source": [
        "arr_3 = np.array([1,2,3,4,5])\n",
        "print(arr_3[0:4])"
      ],
      "execution_count": 23,
      "outputs": [
        {
          "output_type": "stream",
          "name": "stdout",
          "text": [
            "[1 2 3 4]\n"
          ]
        }
      ]
    },
    {
      "cell_type": "code",
      "metadata": {
        "id": "LPEi2lYZfDYh",
        "colab": {
          "base_uri": "https://localhost:8080/"
        },
        "outputId": "3dd4b82a-3b87-43a0-fa3f-90f636e79be8"
      },
      "source": [
        "arr_4 = np.array([[1,2,3,4,5], [2,4,6,8,10]])\n",
        "print(arr_4)\n",
        "print(arr_4[1,3])"
      ],
      "execution_count": 24,
      "outputs": [
        {
          "output_type": "stream",
          "name": "stdout",
          "text": [
            "[[ 1  2  3  4  5]\n",
            " [ 2  4  6  8 10]]\n",
            "8\n"
          ]
        }
      ]
    },
    {
      "cell_type": "markdown",
      "metadata": {
        "id": "1H3ZhtMTfGZg"
      },
      "source": [
        "Nilai pada kolom index ke-1 dan baris index ke-1 adalah 4"
      ]
    },
    {
      "cell_type": "markdown",
      "metadata": {
        "id": "9VBr7tjWgKQR"
      },
      "source": [
        "## Operasi Aritmatika\n",
        "\n",
        "Kita bisa menggunakan operasi aritmatika seperti penjumlahan, pengurangan, perkalian, pembagian dan perpangkatan\n",
        "\n",
        "Operator yang digunakan adalah  +, -, *, / dan **\n",
        "\n",
        "Berikut contoh operasi aritmatika pada array"
      ]
    },
    {
      "cell_type": "code",
      "metadata": {
        "id": "b_3i6v7HgR79",
        "colab": {
          "base_uri": "https://localhost:8080/"
        },
        "outputId": "5364315a-8004-4c0e-8ad5-0b99161d328c"
      },
      "source": [
        "arr_A = np.array([1,2,3,4,5])\n",
        "arr_B = np.array([2,2,2,2,2])\n",
        "\n",
        "print(\"Penjumlahan = \", arr_A + arr_B)\n",
        "print(\"Pengurangan = \", arr_A - arr_B)\n",
        "print(\"Perkalian = \", arr_A * arr_B)\n",
        "print(\"Pembagian = \", arr_A / arr_B)\n",
        "print(\"Perpangkatan = \", arr_A ** arr_B)"
      ],
      "execution_count": 25,
      "outputs": [
        {
          "output_type": "stream",
          "name": "stdout",
          "text": [
            "Penjumlahan =  [3 4 5 6 7]\n",
            "Pengurangan =  [-1  0  1  2  3]\n",
            "Perkalian =  [ 2  4  6  8 10]\n",
            "Pembagian =  [0.5 1.  1.5 2.  2.5]\n",
            "Perpangkatan =  [ 1  4  9 16 25]\n"
          ]
        }
      ]
    },
    {
      "cell_type": "markdown",
      "metadata": {
        "id": "S2E0ozyegUmg"
      },
      "source": [
        "## Operasi Matematika\n",
        "\n",
        "NumPy mempunyai fungsi matematika yang dapat digunakan pada Array\n",
        "\n",
        "Beberapa contoh fungsi statistik antara lain min(), max(), mean(), sum(), std()"
      ]
    },
    {
      "cell_type": "code",
      "metadata": {
        "id": "fRslURjXgX0m",
        "colab": {
          "base_uri": "https://localhost:8080/"
        },
        "outputId": "704de02b-bc5c-4993-ea73-8d0b011dd564"
      },
      "source": [
        "arr_5 = np.array([1,2,3,4,5])\n",
        "print(\"Nilai minimal = \", arr_5.min())\n",
        "print(\"Nilai maksimal = \", arr_5.max())\n",
        "print(\"Nilai rata-rata = \", arr_5.mean())\n",
        "print(\"Total nilai = \", arr_5.sum())\n",
        "print(\"Standar Deviasi = \", arr_5.std())"
      ],
      "execution_count": 26,
      "outputs": [
        {
          "output_type": "stream",
          "name": "stdout",
          "text": [
            "Nilai minimal =  1\n",
            "Nilai maksimal =  5\n",
            "Nilai rata-rata =  3.0\n",
            "Total nilai =  15\n",
            "Standar Deviasi =  1.4142135623730951\n"
          ]
        }
      ]
    },
    {
      "cell_type": "markdown",
      "metadata": {
        "id": "BsYLWIQJgbc2"
      },
      "source": [
        "Ada juga fungsi `argmin()` dan `argmax()` untuk mendapatkan index dari nilai minimum dan maksimum"
      ]
    },
    {
      "cell_type": "code",
      "metadata": {
        "id": "TWGKbcKRge1Z",
        "colab": {
          "base_uri": "https://localhost:8080/"
        },
        "outputId": "4e2174aa-b230-48a7-9620-0c708ccc4e3a"
      },
      "source": [
        "print(\"Index nilai niminal = \", arr_5.argmin())\n",
        "print(\"Index nilai maksimal = \", arr_5.argmax())"
      ],
      "execution_count": 27,
      "outputs": [
        {
          "output_type": "stream",
          "name": "stdout",
          "text": [
            "Index nilai niminal =  0\n",
            "Index nilai maksimal =  4\n"
          ]
        }
      ]
    },
    {
      "cell_type": "markdown",
      "metadata": {
        "id": "fntm4sKNghX-"
      },
      "source": [
        "## Transformasi Array\n",
        "\n",
        "Kita dapat membuat array baru dari array yang sudah ada melalui berbagai metode transformasi seperti merubah ukuran, menggabungkan dua array atau lebih dan lain sebagainya."
      ]
    },
    {
      "cell_type": "markdown",
      "metadata": {
        "id": "FhmxLZKgglt-"
      },
      "source": [
        "**array.reshape**\n",
        "\n",
        "Metode ini digunakan untuk merubah shape array dengan jumlah elemen yang tidak berubah."
      ]
    },
    {
      "cell_type": "code",
      "metadata": {
        "id": "Se4oqhGNgqmm",
        "colab": {
          "base_uri": "https://localhost:8080/"
        },
        "outputId": "495c9a40-cbd3-4b6a-e1a2-b218cf86b537"
      },
      "source": [
        "sebelum = np.array([[1,2,3,4],[5,6,7,8]])\n",
        "print(sebelum)\n",
        "\n",
        "sesudah = sebelum.reshape((8,1))\n",
        "print(sesudah)"
      ],
      "execution_count": 28,
      "outputs": [
        {
          "output_type": "stream",
          "name": "stdout",
          "text": [
            "[[1 2 3 4]\n",
            " [5 6 7 8]]\n",
            "[[1]\n",
            " [2]\n",
            " [3]\n",
            " [4]\n",
            " [5]\n",
            " [6]\n",
            " [7]\n",
            " [8]]\n"
          ]
        }
      ]
    },
    {
      "cell_type": "markdown",
      "metadata": {
        "id": "aguymPT6gt6i"
      },
      "source": [
        "Perhatikan bahwa array `sebelum` memiliki jumlah elemen 8 (2,4) dan array `sesudah` juga memiliki jumlah elemen 8 (4,2)."
      ]
    },
    {
      "cell_type": "markdown",
      "metadata": {
        "id": "zXf2IaKDgxUZ"
      },
      "source": [
        "**array.vstack**\n",
        "\n",
        "Metode ini dilakukan untuk menumpuk beberapa array secara vertikal\n"
      ]
    },
    {
      "cell_type": "code",
      "metadata": {
        "id": "_lQ8Oz45gySu",
        "colab": {
          "base_uri": "https://localhost:8080/"
        },
        "outputId": "b7dd576c-cf41-471d-d1f6-4f964b1828fe"
      },
      "source": [
        "v1 = np.array([1,2,3,4])\n",
        "v2 = np.array([5,6,7,8])\n",
        "\n",
        "np.vstack([v1,v2,v1,v2])"
      ],
      "execution_count": 29,
      "outputs": [
        {
          "output_type": "execute_result",
          "data": {
            "text/plain": [
              "array([[1, 2, 3, 4],\n",
              "       [5, 6, 7, 8],\n",
              "       [1, 2, 3, 4],\n",
              "       [5, 6, 7, 8]])"
            ]
          },
          "metadata": {},
          "execution_count": 29
        }
      ]
    },
    {
      "cell_type": "markdown",
      "metadata": {
        "id": "BbOgRPy3g1Ge"
      },
      "source": [
        "**array.hstack**\n",
        "\n",
        "Metode ini dilakukan untuk menumpuk beberapa array secara horizontal."
      ]
    },
    {
      "cell_type": "code",
      "metadata": {
        "id": "5Kh5t82eg5mm",
        "colab": {
          "base_uri": "https://localhost:8080/"
        },
        "outputId": "f52d2fe3-e925-4e67-beb2-3388df0d98e5"
      },
      "source": [
        "h1 = np.ones((2,4))\n",
        "h2 = np.zeros((2,2))\n",
        "print(h1)\n",
        "print(h2)\n",
        "\n",
        "print(np.hstack((h1,h2)))"
      ],
      "execution_count": 30,
      "outputs": [
        {
          "output_type": "stream",
          "name": "stdout",
          "text": [
            "[[1. 1. 1. 1.]\n",
            " [1. 1. 1. 1.]]\n",
            "[[0. 0.]\n",
            " [0. 0.]]\n",
            "[[1. 1. 1. 1. 0. 0.]\n",
            " [1. 1. 1. 1. 0. 0.]]\n"
          ]
        }
      ]
    },
    {
      "cell_type": "markdown",
      "metadata": {
        "id": "VQpJQNHIg8PN"
      },
      "source": [
        "# **Representasi Matriks Pada Python**"
      ]
    },
    {
      "cell_type": "markdown",
      "metadata": {
        "id": "5m2lsATTg_d2"
      },
      "source": [
        "Matriks adalah array 2 dimensi khusus yang mempertahankan sifat 2 dimensinnya melalui operasi. Matriks memiliki operator khusus tertentu, seperti perkalian matriks dan pemangkatan matriks."
      ]
    },
    {
      "cell_type": "markdown",
      "metadata": {
        "id": "yhxoks_kh-5G"
      },
      "source": [
        "Berikut adalah beberapa penulisan python di berbagai platform:\n",
        "\n",
        "![alt text](https://drive.google.com/uc?id=1Vo7_qxBo3AGaKDtS1nym0Q-hq1Rxh2JH\n",
        ")\n",
        "\n"
      ]
    },
    {
      "cell_type": "markdown",
      "metadata": {
        "id": "hS1vrtuOiDc-"
      },
      "source": [
        "Berikut contoh penulisan matriks pada python:"
      ]
    },
    {
      "cell_type": "code",
      "metadata": {
        "id": "EjVXlLnAiHA_"
      },
      "source": [
        "import numpy as np"
      ],
      "execution_count": 31,
      "outputs": []
    },
    {
      "cell_type": "code",
      "metadata": {
        "id": "Bp0_cdvOiSim",
        "colab": {
          "base_uri": "https://localhost:8080/"
        },
        "outputId": "39239fe0-85d7-4dba-d693-086e35b992ea"
      },
      "source": [
        "A = np.array([[1, 2], [4, 5]])\n",
        "A"
      ],
      "execution_count": 32,
      "outputs": [
        {
          "output_type": "execute_result",
          "data": {
            "text/plain": [
              "array([[1, 2],\n",
              "       [4, 5]])"
            ]
          },
          "metadata": {},
          "execution_count": 32
        }
      ]
    },
    {
      "cell_type": "code",
      "metadata": {
        "id": "wsOkkuxhiWF4",
        "colab": {
          "base_uri": "https://localhost:8080/"
        },
        "outputId": "cd041ccc-37d3-4808-8e72-42bc48f2e0a1"
      },
      "source": [
        "B = np.array([[1, 2, 3], [4, 5, 6], [7, 8, 9]])\n",
        "B"
      ],
      "execution_count": 33,
      "outputs": [
        {
          "output_type": "execute_result",
          "data": {
            "text/plain": [
              "array([[1, 2, 3],\n",
              "       [4, 5, 6],\n",
              "       [7, 8, 9]])"
            ]
          },
          "metadata": {},
          "execution_count": 33
        }
      ]
    },
    {
      "cell_type": "markdown",
      "metadata": {
        "id": "2uPIW_UyiZQE"
      },
      "source": [
        "# **Operasi Matriks Pada Python**"
      ]
    },
    {
      "cell_type": "code",
      "metadata": {
        "id": "WKSZcqtZie0M",
        "colab": {
          "base_uri": "https://localhost:8080/"
        },
        "outputId": "35ed7e19-c9d5-4557-c0c8-ff9b09a2f6e5"
      },
      "source": [
        "P = np.array([[1, 2], [4, 5]])\n",
        "P"
      ],
      "execution_count": 34,
      "outputs": [
        {
          "output_type": "execute_result",
          "data": {
            "text/plain": [
              "array([[1, 2],\n",
              "       [4, 5]])"
            ]
          },
          "metadata": {},
          "execution_count": 34
        }
      ]
    },
    {
      "cell_type": "code",
      "metadata": {
        "id": "1eAQOC3aiib9",
        "colab": {
          "base_uri": "https://localhost:8080/"
        },
        "outputId": "11c9b725-a258-4db6-cc61-0a219fd1f0f5"
      },
      "source": [
        "Q = np.array([[7, 8], [9, 10]])\n",
        "Q"
      ],
      "execution_count": 35,
      "outputs": [
        {
          "output_type": "execute_result",
          "data": {
            "text/plain": [
              "array([[ 7,  8],\n",
              "       [ 9, 10]])"
            ]
          },
          "metadata": {},
          "execution_count": 35
        }
      ]
    },
    {
      "cell_type": "code",
      "metadata": {
        "id": "1YmPZDSxikV-",
        "colab": {
          "base_uri": "https://localhost:8080/"
        },
        "outputId": "570a6d01-f7c5-4fb0-e464-3d993855a4ba"
      },
      "source": [
        "a=29\n",
        "a"
      ],
      "execution_count": 36,
      "outputs": [
        {
          "output_type": "execute_result",
          "data": {
            "text/plain": [
              "29"
            ]
          },
          "metadata": {},
          "execution_count": 36
        }
      ]
    },
    {
      "cell_type": "markdown",
      "metadata": {
        "id": "soZbI7bninB9"
      },
      "source": [
        "**Penjumlahan Matriks**"
      ]
    },
    {
      "cell_type": "code",
      "metadata": {
        "id": "Da2DNJrNin7U",
        "colab": {
          "base_uri": "https://localhost:8080/"
        },
        "outputId": "bb39d8c1-91c4-4138-e0a6-11ac736a36a4"
      },
      "source": [
        "np.add(P,Q)"
      ],
      "execution_count": 37,
      "outputs": [
        {
          "output_type": "execute_result",
          "data": {
            "text/plain": [
              "array([[ 8, 10],\n",
              "       [13, 15]])"
            ]
          },
          "metadata": {},
          "execution_count": 37
        }
      ]
    },
    {
      "cell_type": "markdown",
      "metadata": {
        "id": "9cLmGGtPisB1"
      },
      "source": [
        "**Pengurangan Matriks**"
      ]
    },
    {
      "cell_type": "code",
      "metadata": {
        "id": "pGgHub-PivMl",
        "colab": {
          "base_uri": "https://localhost:8080/"
        },
        "outputId": "9d82483b-e4f0-4a08-a4a9-e1cb70e956d0"
      },
      "source": [
        "np.subtract(P,Q)"
      ],
      "execution_count": 38,
      "outputs": [
        {
          "output_type": "execute_result",
          "data": {
            "text/plain": [
              "array([[-6, -6],\n",
              "       [-5, -5]])"
            ]
          },
          "metadata": {},
          "execution_count": 38
        }
      ]
    },
    {
      "cell_type": "markdown",
      "metadata": {
        "id": "XlR_pJPXiv6M"
      },
      "source": [
        "**Perkalian Skalar Matriks**"
      ]
    },
    {
      "cell_type": "code",
      "metadata": {
        "id": "gaGhJb_Wi0FW",
        "colab": {
          "base_uri": "https://localhost:8080/"
        },
        "outputId": "d90080bf-1b72-44cf-cfa9-b941b74434d8"
      },
      "source": [
        "a*P"
      ],
      "execution_count": 39,
      "outputs": [
        {
          "output_type": "execute_result",
          "data": {
            "text/plain": [
              "array([[ 29,  58],\n",
              "       [116, 145]])"
            ]
          },
          "metadata": {},
          "execution_count": 39
        }
      ]
    },
    {
      "cell_type": "markdown",
      "metadata": {
        "id": "x4xvUntFi3Yf"
      },
      "source": [
        "**Perkalian Matriks**"
      ]
    },
    {
      "cell_type": "code",
      "metadata": {
        "id": "xWJKVqbJi6cO",
        "colab": {
          "base_uri": "https://localhost:8080/"
        },
        "outputId": "97bb2da5-d351-445b-d0a3-aa2fa148f0df"
      },
      "source": [
        "np.multiply(P,Q)"
      ],
      "execution_count": 40,
      "outputs": [
        {
          "output_type": "execute_result",
          "data": {
            "text/plain": [
              "array([[ 7, 16],\n",
              "       [36, 50]])"
            ]
          },
          "metadata": {},
          "execution_count": 40
        }
      ]
    },
    {
      "cell_type": "markdown",
      "metadata": {
        "id": "922l8PT8i7C-"
      },
      "source": [
        "**Perkalian Titik Matriks (Dot Product)**"
      ]
    },
    {
      "cell_type": "code",
      "metadata": {
        "id": "x8OZDIUzi9EE",
        "colab": {
          "base_uri": "https://localhost:8080/"
        },
        "outputId": "20cc188f-49b2-4cbd-dcc8-c6dc4d3b4dcf"
      },
      "source": [
        "np.dot(P,Q)"
      ],
      "execution_count": 41,
      "outputs": [
        {
          "output_type": "execute_result",
          "data": {
            "text/plain": [
              "array([[25, 28],\n",
              "       [73, 82]])"
            ]
          },
          "metadata": {},
          "execution_count": 41
        }
      ]
    },
    {
      "cell_type": "markdown",
      "metadata": {
        "id": "TxzCM0Fci_Aj"
      },
      "source": [
        "**Transpose Matriks**"
      ]
    },
    {
      "cell_type": "code",
      "metadata": {
        "id": "5W1ix7CcjCCk",
        "colab": {
          "base_uri": "https://localhost:8080/"
        },
        "outputId": "ac61f1bf-26de-4843-e7b1-aab52d6a03fc"
      },
      "source": [
        "P.T"
      ],
      "execution_count": 42,
      "outputs": [
        {
          "output_type": "execute_result",
          "data": {
            "text/plain": [
              "array([[1, 4],\n",
              "       [2, 5]])"
            ]
          },
          "metadata": {},
          "execution_count": 42
        }
      ]
    },
    {
      "cell_type": "markdown",
      "metadata": {
        "id": "-xe1EX1LjGIl"
      },
      "source": [
        "**Operasi Fungsi Pada Setiap Elemen Matriks - Akar Kuadrat**"
      ]
    },
    {
      "cell_type": "code",
      "metadata": {
        "id": "2dtsWq_LjHL8",
        "colab": {
          "base_uri": "https://localhost:8080/"
        },
        "outputId": "458c2ac6-dd13-4357-ad10-d58dd2304d05"
      },
      "source": [
        "np.sqrt(P)"
      ],
      "execution_count": 43,
      "outputs": [
        {
          "output_type": "execute_result",
          "data": {
            "text/plain": [
              "array([[1.        , 1.41421356],\n",
              "       [2.        , 2.23606798]])"
            ]
          },
          "metadata": {},
          "execution_count": 43
        }
      ]
    },
    {
      "cell_type": "markdown",
      "metadata": {
        "id": "wVMhwS_mjJOF"
      },
      "source": [
        "**Operasi Fungsi Pada Setiap Elemen Matriks - Akar Kuadrat**"
      ]
    },
    {
      "cell_type": "code",
      "metadata": {
        "id": "iRzOnwb1jNU9",
        "colab": {
          "base_uri": "https://localhost:8080/"
        },
        "outputId": "1ee2c0dd-60e3-4444-a5ff-8d5098b31ac5"
      },
      "source": [
        "np.sqrt(P)"
      ],
      "execution_count": 44,
      "outputs": [
        {
          "output_type": "execute_result",
          "data": {
            "text/plain": [
              "array([[1.        , 1.41421356],\n",
              "       [2.        , 2.23606798]])"
            ]
          },
          "metadata": {},
          "execution_count": 44
        }
      ]
    },
    {
      "cell_type": "markdown",
      "metadata": {
        "id": "dhi7IqOpjP5n"
      },
      "source": [
        "**Menjumlahkan Semua Elemen Kolom Sebuah Matriks**"
      ]
    },
    {
      "cell_type": "code",
      "metadata": {
        "id": "lOufUclmjToF",
        "colab": {
          "base_uri": "https://localhost:8080/"
        },
        "outputId": "e6c4bea2-d784-4e1f-936c-fe99ab53ffe1"
      },
      "source": [
        "Q"
      ],
      "execution_count": 45,
      "outputs": [
        {
          "output_type": "execute_result",
          "data": {
            "text/plain": [
              "array([[ 7,  8],\n",
              "       [ 9, 10]])"
            ]
          },
          "metadata": {},
          "execution_count": 45
        }
      ]
    },
    {
      "cell_type": "code",
      "metadata": {
        "id": "bDOCBmnzjUfX",
        "colab": {
          "base_uri": "https://localhost:8080/"
        },
        "outputId": "2e67d2c4-b152-4f39-d1e0-be4d2c9ebae0"
      },
      "source": [
        "np.sum(Q,axis=1)"
      ],
      "execution_count": 46,
      "outputs": [
        {
          "output_type": "execute_result",
          "data": {
            "text/plain": [
              "array([15, 19])"
            ]
          },
          "metadata": {},
          "execution_count": 46
        }
      ]
    },
    {
      "cell_type": "markdown",
      "metadata": {
        "id": "9yVT4Q8JjYZ8"
      },
      "source": [
        "**Menjumlahkan Semua Elemen Baris Sebuah Matriks**"
      ]
    },
    {
      "cell_type": "code",
      "metadata": {
        "id": "gNtGBnEMja_v",
        "colab": {
          "base_uri": "https://localhost:8080/"
        },
        "outputId": "b7edf78f-3018-43c7-af7d-3b63edc10749"
      },
      "source": [
        "np.sum(Q,axis=0)"
      ],
      "execution_count": 47,
      "outputs": [
        {
          "output_type": "execute_result",
          "data": {
            "text/plain": [
              "array([16, 18])"
            ]
          },
          "metadata": {},
          "execution_count": 47
        }
      ]
    },
    {
      "cell_type": "markdown",
      "metadata": {
        "id": "PhzZue62jdeZ"
      },
      "source": [
        "# **Aljabar Linear Pada Python**"
      ]
    },
    {
      "cell_type": "markdown",
      "metadata": {
        "id": "svd-Q9syjoQP"
      },
      "source": [
        "Dalam modul numpy juga disediakan fungsi-fungsi Aljabar Linear untuk matriks.\n",
        "Beberapa konsep Aljabar Linear yang akan ditunjukkan di modul ini adalah\n",
        "* Determinan\n",
        "* Inverse\n",
        "* Nilai eigen\n",
        "* Vector eigen\n",
        "* Matriks identitas\n",
        "* Matriks satuan\n",
        "* Matriks nol\n",
        "* Matriks segitiga L dan U\n",
        "* Dekomposisi L U matriks"
      ]
    },
    {
      "cell_type": "code",
      "metadata": {
        "id": "ueM5F6BrkC8-",
        "colab": {
          "base_uri": "https://localhost:8080/"
        },
        "outputId": "01bf256d-2cb2-4182-9bf9-8ea74eaee34f"
      },
      "source": [
        "A = np.array([[2,3,4],[7, 8, 9],[10, 7, 8]])\n",
        "A"
      ],
      "execution_count": 48,
      "outputs": [
        {
          "output_type": "execute_result",
          "data": {
            "text/plain": [
              "array([[ 2,  3,  4],\n",
              "       [ 7,  8,  9],\n",
              "       [10,  7,  8]])"
            ]
          },
          "metadata": {},
          "execution_count": 48
        }
      ]
    },
    {
      "cell_type": "code",
      "metadata": {
        "id": "ATy9OZHJkDyc",
        "colab": {
          "base_uri": "https://localhost:8080/"
        },
        "outputId": "f6cbb38c-0cd3-4d73-9a24-d5e0acbcacb3"
      },
      "source": [
        "B = np.array([[5,7,4],[6, 8, 9],[1, 2, 6]])\n",
        "B"
      ],
      "execution_count": 49,
      "outputs": [
        {
          "output_type": "execute_result",
          "data": {
            "text/plain": [
              "array([[5, 7, 4],\n",
              "       [6, 8, 9],\n",
              "       [1, 2, 6]])"
            ]
          },
          "metadata": {},
          "execution_count": 49
        }
      ]
    },
    {
      "cell_type": "markdown",
      "metadata": {
        "id": "H8DPQ22zkIuV"
      },
      "source": [
        "**Determinan**\n"
      ]
    },
    {
      "cell_type": "code",
      "metadata": {
        "id": "cjqrethbkLdE",
        "colab": {
          "base_uri": "https://localhost:8080/"
        },
        "outputId": "42d96dbe-6481-4614-efd2-065c3c8cfecf"
      },
      "source": [
        "np.linalg.det(A)"
      ],
      "execution_count": 50,
      "outputs": [
        {
          "output_type": "execute_result",
          "data": {
            "text/plain": [
              "-20.000000000000007"
            ]
          },
          "metadata": {},
          "execution_count": 50
        }
      ]
    },
    {
      "cell_type": "markdown",
      "metadata": {
        "id": "YgjF8kUYkYCX"
      },
      "source": [
        "**Inverse Matriks**"
      ]
    },
    {
      "cell_type": "code",
      "metadata": {
        "id": "Ls5bAIGNkaxM",
        "colab": {
          "base_uri": "https://localhost:8080/"
        },
        "outputId": "329eeae1-14ad-44c4-f9b9-15d0ee128380"
      },
      "source": [
        "np.linalg.inv(A)"
      ],
      "execution_count": 51,
      "outputs": [
        {
          "output_type": "execute_result",
          "data": {
            "text/plain": [
              "array([[-0.05, -0.2 ,  0.25],\n",
              "       [-1.7 ,  1.2 , -0.5 ],\n",
              "       [ 1.55, -0.8 ,  0.25]])"
            ]
          },
          "metadata": {},
          "execution_count": 51
        }
      ]
    },
    {
      "cell_type": "markdown",
      "metadata": {
        "id": "1pUT1ZQekhsW"
      },
      "source": [
        "**Nilai Eigen dan Vector Eigen**"
      ]
    },
    {
      "cell_type": "code",
      "metadata": {
        "id": "r6WjN77OkkjW",
        "colab": {
          "base_uri": "https://localhost:8080/"
        },
        "outputId": "58d346eb-b558-43a5-8667-aea7d1e1b883"
      },
      "source": [
        "eig, vec_eig = np.linalg.eig(A)\n",
        "print('Nilai eigen matriks A:')\n",
        "print(eig)\n",
        "print('Vektor eigen matriks A:')\n",
        "print(vec_eig)"
      ],
      "execution_count": 52,
      "outputs": [
        {
          "output_type": "stream",
          "name": "stdout",
          "text": [
            "Nilai eigen matriks A:\n",
            "[19.39079317 -1.9262474   0.53545423]\n",
            "Vektor eigen matriks A:\n",
            "[[-0.27295093 -0.54761756  0.15754422]\n",
            " [-0.6940728  -0.31621014 -0.8168342 ]\n",
            " [-0.66615369  0.7746781   0.55494297]]\n"
          ]
        }
      ]
    },
    {
      "cell_type": "markdown",
      "metadata": {
        "id": "3PAwqlT-klTk"
      },
      "source": [
        "**Matriks Identitas**"
      ]
    },
    {
      "cell_type": "code",
      "metadata": {
        "id": "PnZ1KsH6kqel",
        "colab": {
          "base_uri": "https://localhost:8080/"
        },
        "outputId": "2eaf5aeb-c75c-42b5-ced8-279b20c42681"
      },
      "source": [
        "Identitas=np.identity(5)\n",
        "print(Identitas)"
      ],
      "execution_count": 53,
      "outputs": [
        {
          "output_type": "stream",
          "name": "stdout",
          "text": [
            "[[1. 0. 0. 0. 0.]\n",
            " [0. 1. 0. 0. 0.]\n",
            " [0. 0. 1. 0. 0.]\n",
            " [0. 0. 0. 1. 0.]\n",
            " [0. 0. 0. 0. 1.]]\n"
          ]
        }
      ]
    },
    {
      "cell_type": "code",
      "metadata": {
        "id": "Q0rrTAAoksoV",
        "colab": {
          "base_uri": "https://localhost:8080/"
        },
        "outputId": "5b3a2420-19cd-42ef-b2e4-e707b1a0a095"
      },
      "source": [
        "Identitas[:,3]"
      ],
      "execution_count": 54,
      "outputs": [
        {
          "output_type": "execute_result",
          "data": {
            "text/plain": [
              "array([0., 0., 0., 1., 0.])"
            ]
          },
          "metadata": {},
          "execution_count": 54
        }
      ]
    },
    {
      "cell_type": "markdown",
      "metadata": {
        "id": "TFH3xj6qkvCe"
      },
      "source": [
        "**Matriks Satuan**"
      ]
    },
    {
      "cell_type": "code",
      "metadata": {
        "id": "aqlS1Bp1k207",
        "colab": {
          "base_uri": "https://localhost:8080/"
        },
        "outputId": "5a922fbe-ac4a-42c4-b128-f58ad46b4737"
      },
      "source": [
        "Satuan=np.ones((2,3))\n",
        "Satuan"
      ],
      "execution_count": 55,
      "outputs": [
        {
          "output_type": "execute_result",
          "data": {
            "text/plain": [
              "array([[1., 1., 1.],\n",
              "       [1., 1., 1.]])"
            ]
          },
          "metadata": {},
          "execution_count": 55
        }
      ]
    },
    {
      "cell_type": "markdown",
      "metadata": {
        "id": "P2RAPhnJk5jN"
      },
      "source": [
        "**Matriks Nol**"
      ]
    },
    {
      "cell_type": "code",
      "metadata": {
        "id": "nmNlPnW9k6vs",
        "colab": {
          "base_uri": "https://localhost:8080/"
        },
        "outputId": "df020ce0-8f27-4787-a3f4-d3e26e8043e1"
      },
      "source": [
        "MatriksNol=np.zeros(10)\n",
        "MatriksNol"
      ],
      "execution_count": 56,
      "outputs": [
        {
          "output_type": "execute_result",
          "data": {
            "text/plain": [
              "array([0., 0., 0., 0., 0., 0., 0., 0., 0., 0.])"
            ]
          },
          "metadata": {},
          "execution_count": 56
        }
      ]
    },
    {
      "cell_type": "markdown",
      "metadata": {
        "id": "s4LRSL7pk-5G"
      },
      "source": [
        "**Matriks Segitiga Atas dan Bawah**"
      ]
    },
    {
      "cell_type": "code",
      "metadata": {
        "id": "qEipqRgglDw8",
        "colab": {
          "base_uri": "https://localhost:8080/"
        },
        "outputId": "b5676617-f00d-4365-f764-d45f6f4f216d"
      },
      "source": [
        "M=np.array([[1,2,3],[4,5,6],[7,8,9]])\n",
        "M"
      ],
      "execution_count": 57,
      "outputs": [
        {
          "output_type": "execute_result",
          "data": {
            "text/plain": [
              "array([[1, 2, 3],\n",
              "       [4, 5, 6],\n",
              "       [7, 8, 9]])"
            ]
          },
          "metadata": {},
          "execution_count": 57
        }
      ]
    },
    {
      "cell_type": "code",
      "metadata": {
        "id": "f4pRq99PlEQN",
        "colab": {
          "base_uri": "https://localhost:8080/"
        },
        "outputId": "e0315a59-683b-4474-eb75-abffbedda662"
      },
      "source": [
        "Lower=np.tril(M, -1)\n",
        "Lower"
      ],
      "execution_count": 58,
      "outputs": [
        {
          "output_type": "execute_result",
          "data": {
            "text/plain": [
              "array([[0, 0, 0],\n",
              "       [4, 0, 0],\n",
              "       [7, 8, 0]])"
            ]
          },
          "metadata": {},
          "execution_count": 58
        }
      ]
    },
    {
      "cell_type": "code",
      "metadata": {
        "id": "Ycnmr-OVlGhu",
        "colab": {
          "base_uri": "https://localhost:8080/"
        },
        "outputId": "3255a243-a295-4176-d449-92eb4ab72d93"
      },
      "source": [
        "Upper=np.triu(M, 1)\n",
        "Upper"
      ],
      "execution_count": 59,
      "outputs": [
        {
          "output_type": "execute_result",
          "data": {
            "text/plain": [
              "array([[0, 2, 3],\n",
              "       [0, 0, 6],\n",
              "       [0, 0, 0]])"
            ]
          },
          "metadata": {},
          "execution_count": 59
        }
      ]
    },
    {
      "cell_type": "markdown",
      "metadata": {
        "id": "68XZJd6blJk2"
      },
      "source": [
        "**Matriks Dekomposisi LU**"
      ]
    },
    {
      "cell_type": "code",
      "metadata": {
        "id": "JTSF9uItlMGh",
        "colab": {
          "base_uri": "https://localhost:8080/"
        },
        "outputId": "ae58b99f-55e6-4d55-e4c9-9cc28f3a9353"
      },
      "source": [
        "import numpy as np\n",
        "import scipy.linalg as la\n",
        "np.set_printoptions(suppress=True)\n",
        "\n",
        "P, L, U = la.lu(A)\n",
        "print(P)\n",
        "\n",
        "print(L)\n",
        "\n",
        "print(U)"
      ],
      "execution_count": 60,
      "outputs": [
        {
          "output_type": "stream",
          "name": "stdout",
          "text": [
            "[[0. 0. 1.]\n",
            " [0. 1. 0.]\n",
            " [1. 0. 0.]]\n",
            "[[1.         0.         0.        ]\n",
            " [0.7        1.         0.        ]\n",
            " [0.2        0.51612903 1.        ]]\n",
            "[[10.          7.          8.        ]\n",
            " [ 0.          3.1         3.4       ]\n",
            " [ 0.          0.          0.64516129]]\n"
          ]
        }
      ]
    },
    {
      "cell_type": "markdown",
      "metadata": {
        "id": "zETV4oXUlOiF"
      },
      "source": [
        "# **Membangun Matriks Menggunakan Perulangan**"
      ]
    },
    {
      "cell_type": "code",
      "metadata": {
        "id": "dBQRfmc5lR4d",
        "colab": {
          "base_uri": "https://localhost:8080/"
        },
        "outputId": "d7db4232-77de-4eb3-a634-40ea258f99d3"
      },
      "source": [
        "C = np.arange(0,10,1)\n",
        "C"
      ],
      "execution_count": 61,
      "outputs": [
        {
          "output_type": "execute_result",
          "data": {
            "text/plain": [
              "array([0, 1, 2, 3, 4, 5, 6, 7, 8, 9])"
            ]
          },
          "metadata": {},
          "execution_count": 61
        }
      ]
    },
    {
      "cell_type": "code",
      "metadata": {
        "id": "nJWRgDDIlSjz",
        "colab": {
          "base_uri": "https://localhost:8080/"
        },
        "outputId": "45cc0a5d-cd70-4272-d12d-92ea8742ac4e"
      },
      "source": [
        "C**2"
      ],
      "execution_count": 62,
      "outputs": [
        {
          "output_type": "execute_result",
          "data": {
            "text/plain": [
              "array([ 0,  1,  4,  9, 16, 25, 36, 49, 64, 81])"
            ]
          },
          "metadata": {},
          "execution_count": 62
        }
      ]
    },
    {
      "cell_type": "code",
      "metadata": {
        "id": "n9c6WTywlUxs",
        "colab": {
          "base_uri": "https://localhost:8080/"
        },
        "outputId": "8ac9d10d-4714-4bad-b90d-a73c08f32b1b"
      },
      "source": [
        "L = []\n",
        "for i in C:\n",
        "  L.append(i+1)\n",
        "L"
      ],
      "execution_count": 63,
      "outputs": [
        {
          "output_type": "execute_result",
          "data": {
            "text/plain": [
              "[1, 2, 3, 4, 5, 6, 7, 8, 9, 10]"
            ]
          },
          "metadata": {},
          "execution_count": 63
        }
      ]
    },
    {
      "cell_type": "code",
      "metadata": {
        "id": "bsOy2uYDlZxl",
        "colab": {
          "base_uri": "https://localhost:8080/"
        },
        "outputId": "2dbcfbd3-ea30-4d3e-bc8b-43d46a658705"
      },
      "source": [
        "A=np.zeros([3,4])\n",
        "baris, kolom = np.shape(A)\n",
        "print(baris)\n",
        "print(kolom)\n",
        "print(A)\n",
        "arr=[]\n",
        "for i in range(baris):\n",
        "    arr.append([])\n",
        "    print(arr)\n",
        "    for j in range(kolom):\n",
        "        arr[i].append((i+j)*2)\n",
        "        print(arr)\n",
        "print(np.array(arr))"
      ],
      "execution_count": 64,
      "outputs": [
        {
          "output_type": "stream",
          "name": "stdout",
          "text": [
            "3\n",
            "4\n",
            "[[0. 0. 0. 0.]\n",
            " [0. 0. 0. 0.]\n",
            " [0. 0. 0. 0.]]\n",
            "[[]]\n",
            "[[0]]\n",
            "[[0, 2]]\n",
            "[[0, 2, 4]]\n",
            "[[0, 2, 4, 6]]\n",
            "[[0, 2, 4, 6], []]\n",
            "[[0, 2, 4, 6], [2]]\n",
            "[[0, 2, 4, 6], [2, 4]]\n",
            "[[0, 2, 4, 6], [2, 4, 6]]\n",
            "[[0, 2, 4, 6], [2, 4, 6, 8]]\n",
            "[[0, 2, 4, 6], [2, 4, 6, 8], []]\n",
            "[[0, 2, 4, 6], [2, 4, 6, 8], [4]]\n",
            "[[0, 2, 4, 6], [2, 4, 6, 8], [4, 6]]\n",
            "[[0, 2, 4, 6], [2, 4, 6, 8], [4, 6, 8]]\n",
            "[[0, 2, 4, 6], [2, 4, 6, 8], [4, 6, 8, 10]]\n",
            "[[ 0  2  4  6]\n",
            " [ 2  4  6  8]\n",
            " [ 4  6  8 10]]\n"
          ]
        }
      ]
    },
    {
      "cell_type": "markdown",
      "metadata": {
        "id": "huBcl9vildIl"
      },
      "source": [
        "# Latihan\n",
        "\n",
        "1. Buatlah array matriks identitas dengan ukuran 20x20!\n"
      ]
    },
    {
      "cell_type": "code",
      "metadata": {
        "colab": {
          "base_uri": "https://localhost:8080/"
        },
        "id": "1BWLQU5shiyJ",
        "outputId": "2b6e94b0-b50c-4ad7-d4e6-21c67b605ea4"
      },
      "source": [
        "import numpy as np\n",
        "identity = np.identity(20)\n",
        "print(identity)"
      ],
      "execution_count": 65,
      "outputs": [
        {
          "output_type": "stream",
          "name": "stdout",
          "text": [
            "[[1. 0. 0. 0. 0. 0. 0. 0. 0. 0. 0. 0. 0. 0. 0. 0. 0. 0. 0. 0.]\n",
            " [0. 1. 0. 0. 0. 0. 0. 0. 0. 0. 0. 0. 0. 0. 0. 0. 0. 0. 0. 0.]\n",
            " [0. 0. 1. 0. 0. 0. 0. 0. 0. 0. 0. 0. 0. 0. 0. 0. 0. 0. 0. 0.]\n",
            " [0. 0. 0. 1. 0. 0. 0. 0. 0. 0. 0. 0. 0. 0. 0. 0. 0. 0. 0. 0.]\n",
            " [0. 0. 0. 0. 1. 0. 0. 0. 0. 0. 0. 0. 0. 0. 0. 0. 0. 0. 0. 0.]\n",
            " [0. 0. 0. 0. 0. 1. 0. 0. 0. 0. 0. 0. 0. 0. 0. 0. 0. 0. 0. 0.]\n",
            " [0. 0. 0. 0. 0. 0. 1. 0. 0. 0. 0. 0. 0. 0. 0. 0. 0. 0. 0. 0.]\n",
            " [0. 0. 0. 0. 0. 0. 0. 1. 0. 0. 0. 0. 0. 0. 0. 0. 0. 0. 0. 0.]\n",
            " [0. 0. 0. 0. 0. 0. 0. 0. 1. 0. 0. 0. 0. 0. 0. 0. 0. 0. 0. 0.]\n",
            " [0. 0. 0. 0. 0. 0. 0. 0. 0. 1. 0. 0. 0. 0. 0. 0. 0. 0. 0. 0.]\n",
            " [0. 0. 0. 0. 0. 0. 0. 0. 0. 0. 1. 0. 0. 0. 0. 0. 0. 0. 0. 0.]\n",
            " [0. 0. 0. 0. 0. 0. 0. 0. 0. 0. 0. 1. 0. 0. 0. 0. 0. 0. 0. 0.]\n",
            " [0. 0. 0. 0. 0. 0. 0. 0. 0. 0. 0. 0. 1. 0. 0. 0. 0. 0. 0. 0.]\n",
            " [0. 0. 0. 0. 0. 0. 0. 0. 0. 0. 0. 0. 0. 1. 0. 0. 0. 0. 0. 0.]\n",
            " [0. 0. 0. 0. 0. 0. 0. 0. 0. 0. 0. 0. 0. 0. 1. 0. 0. 0. 0. 0.]\n",
            " [0. 0. 0. 0. 0. 0. 0. 0. 0. 0. 0. 0. 0. 0. 0. 1. 0. 0. 0. 0.]\n",
            " [0. 0. 0. 0. 0. 0. 0. 0. 0. 0. 0. 0. 0. 0. 0. 0. 1. 0. 0. 0.]\n",
            " [0. 0. 0. 0. 0. 0. 0. 0. 0. 0. 0. 0. 0. 0. 0. 0. 0. 1. 0. 0.]\n",
            " [0. 0. 0. 0. 0. 0. 0. 0. 0. 0. 0. 0. 0. 0. 0. 0. 0. 0. 1. 0.]\n",
            " [0. 0. 0. 0. 0. 0. 0. 0. 0. 0. 0. 0. 0. 0. 0. 0. 0. 0. 0. 1.]]\n"
          ]
        }
      ]
    },
    {
      "cell_type": "markdown",
      "metadata": {
        "id": "dO166h_Oh-FC"
      },
      "source": [
        "2. Buatlah array matriks dengan ukuran sesuai dengan array `c` dan dengan elemennya adalah bilangan 112!\n",
        "\n",
        "  ```python\n",
        "  c=[20, 60, 50, 70, 90, 78, 46, 56]\n",
        "  ```"
      ]
    },
    {
      "cell_type": "code",
      "metadata": {
        "colab": {
          "base_uri": "https://localhost:8080/"
        },
        "id": "v5LcNYrzidwl",
        "outputId": "602a1f0b-73b0-4b19-8961-234d650bde10"
      },
      "source": [
        "\n",
        "c = np.array([[20, 60, 50, 70, 90, 78, 46, 56]])\n",
        "\n",
        "print(np.full_like(c, 112))"
      ],
      "execution_count": 66,
      "outputs": [
        {
          "output_type": "stream",
          "name": "stdout",
          "text": [
            "[[112 112 112 112 112 112 112 112]]\n"
          ]
        }
      ]
    }
  ]
}