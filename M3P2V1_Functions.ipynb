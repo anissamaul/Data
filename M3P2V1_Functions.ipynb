{
  "nbformat": 4,
  "nbformat_minor": 0,
  "metadata": {
    "colab": {
      "name": "M3P2V1_Functions.ipynb",
      "provenance": [],
      "collapsed_sections": []
    },
    "kernelspec": {
      "name": "python3",
      "display_name": "Python 3"
    },
    "language_info": {
      "name": "python"
    }
  },
  "cells": [
    {
      "cell_type": "markdown",
      "metadata": {
        "id": "Zo5_w_qJdbHR"
      },
      "source": [
        "##Function"
      ]
    },
    {
      "cell_type": "markdown",
      "metadata": {
        "id": "h_G__ihPdhE4"
      },
      "source": [
        "Function(Fungsi) adalah sebuah blok statemen yang hanya akan dijalankan saat ia dipanggil.\n",
        "\n",
        "Fungsi len() untuk mengukur jumlah elemen dalam sebuah list dan fungsi print() untuk menampilkan pesan pada layar konsol merupakan contoh dari bentuk fungsi yang telah disediakan oleh bahasa pemrograman Python atau dengan kata lain built-in functions.\n",
        "\n",
        "Selain fungsi yang telah disediakan oleh Python, Python mengizinkan untuk mendeklarasikan fungsi dalam kode yang dituliskan yang dikenal dengan user defined function.\n",
        "\n",
        "\n",
        "\n",
        "```\n",
        "def nama_fungsi(argument):\n",
        "    statement_1\n",
        "    ...\n",
        "    statement_n\n",
        "    return returned_value\n",
        "```\n",
        "\n",
        "\n",
        "\n",
        "*   **nama_fungsi** adalah nama untuk fungsi yang Anda definisikan, memiliki aturan seperti penamaan variabel\n",
        "*   **argument** adalah variabel masukan ke fungsi, bisa tanpa variabel, satu variabel atau lebih\n",
        "*   **statement_1** ... statement_n adalah algoritma yang telah Anda transfer dalam bahasa Python yang merupakan inti dari fungsi yang Anda definisikan. Seluruh statement adalah ,emjorok (indent) ke dalam seperti yang pernah Anda pelajari pada conditioning dan looping\n",
        "*   **return_value** adalah variabel output dari fungsi Anda, bisa tanpa variabel, satu variabel atau lebih.\n",
        "\n"
      ]
    },
    {
      "cell_type": "markdown",
      "metadata": {
        "id": "OpC-zm5CU2hH"
      },
      "source": [
        "##Argumen dan Parameter"
      ]
    },
    {
      "cell_type": "markdown",
      "metadata": {
        "id": "38RBBm66U6sG"
      },
      "source": [
        "\n",
        "*   **Parameter** adalah variabel yang digunakan dalam deklarasi fungsi\n",
        "*   **Argumen** adalah nilai yang diberikan saat pemanggilan fungsi.\n",
        "\n"
      ]
    },
    {
      "cell_type": "code",
      "metadata": {
        "id": "LGuJwhlSVQaR"
      },
      "source": [
        "def print_nama(nama): # 'nama' adalah parameter\n",
        "    print(nama)\n",
        "\n",
        "print_nama('Budi') # 'Budi' adalah argumen"
      ],
      "execution_count": null,
      "outputs": []
    },
    {
      "cell_type": "markdown",
      "metadata": {
        "id": "j0symFP8Viuk"
      },
      "source": [
        "##Argumen posisi dan kata kunci"
      ]
    },
    {
      "cell_type": "markdown",
      "metadata": {
        "id": "4wX7lAz1Vqym"
      },
      "source": [
        "Kita bisa menyatakan argumen sebagai argumen posisi atau kata kunci. Beberapa manfaat argumen kata kunci dapat berupa:\n",
        "\n",
        "*   Kita dapat menyebut argumen dengan nama mereka untuk memperjelas apa yang mereka wakili\n",
        "*   Kita dapat mengatur ulang argumen dengan cara yang membuatnya paling mudah dibaca\n",
        "\n"
      ]
    },
    {
      "cell_type": "code",
      "metadata": {
        "id": "b7sEDeH-WLDx"
      },
      "source": [
        "def angka(a, b, c):\n",
        "    print(a, b, c)\n",
        "\n",
        "# Argumen posisi\n",
        "# Argumen berdasarkan posisinya\n",
        "angka(1, 2, 3)\n",
        "\n",
        "# Argumen berdasarkan kata kuncinya\n",
        "angka(a=1, b=2, c=3)\n",
        "angka(c=3, b=2, a=1)\n",
        "# Catatan: jika sudah diberi kata kunci maka urutan tidak menjadi penting\n",
        "\n",
        "# Campuran antara argumen posisi dan argumen kata kunci\n",
        "angka(1, b=2, c=3)\n",
        "\n",
        "# Ini tidak diijinkan:\n",
        "# foo(1, b=2, 3) # Argumen posisiomal setelah argumen kunci\n",
        "# foo(1, b=2, a=3) # Terdapat dua nilai untuk argumen kunci 'a'"
      ],
      "execution_count": null,
      "outputs": []
    },
    {
      "cell_type": "markdown",
      "metadata": {
        "id": "ZXA4GQrOXmMg"
      },
      "source": [
        "##Argumen Default"
      ]
    },
    {
      "cell_type": "markdown",
      "metadata": {
        "id": "Q_Qr_BQhXrpe"
      },
      "source": [
        "Fungsi dapat memiliki argumen default dengan nilai yang telah ditentukan sebelumnya. Argumen ini dapat ditinggalkan dan nilai default kemudian diteruskan ke fungsi, atau argumen dapat dirubah dengan nilai yang berbeda. Perhatikan bahwa argumen default harus ditentukan sebagai **parameter terakhir** dalam suatu fungsi."
      ]
    },
    {
      "cell_type": "code",
      "metadata": {
        "id": "hdGiVZ1ZaHmv"
      },
      "source": [
        "# Argumen default\n",
        "def angka2(a, b, c, d=4):\n",
        "    print(a, b, c, d)\n",
        "\n",
        "angka2(1, 2, 3, 4)\n",
        "angka2(1, b=2, c=3, d=100)\n",
        "\n",
        "# Argumen default harus diletakkan terakhir"
      ],
      "execution_count": null,
      "outputs": []
    },
    {
      "cell_type": "markdown",
      "metadata": {
        "id": "yNniW6zQbV7O"
      },
      "source": [
        "##Praktik Membuat Fungsi"
      ]
    },
    {
      "cell_type": "code",
      "metadata": {
        "id": "RE6TJGpWbaB-"
      },
      "source": [
        "x = 1\n",
        "y = 2\n",
        "x*y"
      ],
      "execution_count": null,
      "outputs": []
    },
    {
      "cell_type": "code",
      "metadata": {
        "id": "0ozHXoBcbdSO"
      },
      "source": [
        "def penjumlahan(x,y): #input\n",
        "  a=x+y               #proses\n",
        "  return a            #output\n",
        "\n",
        "penjumlahan(1, 2)     #menggunakan fungsi"
      ],
      "execution_count": null,
      "outputs": []
    },
    {
      "cell_type": "markdown",
      "metadata": {
        "id": "LaspR1gLbxp_"
      },
      "source": [
        "penjumlahan yang memungkinkan untuk tiga bilangan"
      ]
    },
    {
      "cell_type": "code",
      "metadata": {
        "id": "2F8l1R7Ab3b2"
      },
      "source": [
        "def penjumlahan(x,y,z=None):\n",
        "    if (z==None):\n",
        "        return x+y\n",
        "    else:\n",
        "        return x+y+z\n",
        "\n",
        "print(penjumlahan(1, 2))\n",
        "print(penjumlahan(1, 2, 3))"
      ],
      "execution_count": null,
      "outputs": []
    },
    {
      "cell_type": "markdown",
      "metadata": {
        "id": "ddEAW2mBcPUd"
      },
      "source": [
        "menyimpan hasil fungsi dalam variabel"
      ]
    },
    {
      "cell_type": "code",
      "metadata": {
        "id": "RXld8vf2cWou"
      },
      "source": [
        "def penjumlahan(x,y):\n",
        "    return x+y\n",
        "\n",
        "a = penjumlahan\n",
        "a(1, 2)"
      ],
      "execution_count": null,
      "outputs": []
    },
    {
      "cell_type": "markdown",
      "metadata": {
        "id": "r60c5dlqcgCH"
      },
      "source": [
        "###Latihan 1"
      ]
    },
    {
      "cell_type": "markdown",
      "metadata": {
        "id": "raHFgP_ZclEe"
      },
      "source": [
        "Buatlah Function Pythagoras dengan input argumennya panjang tinggi dan alas segitiga untuk menghasilkan output nilai panjang sisi miring."
      ]
    },
    {
      "cell_type": "code",
      "metadata": {
        "id": "064VOTiac0OW",
        "colab": {
          "base_uri": "https://localhost:8080/"
        },
        "outputId": "e1699c9d-f0f0-482e-da00-1a450f6c4853"
      },
      "source": [
        "# Ketikkan codemu\n",
        "# Pythagoras\n",
        "# x = alas segitiga dan y = tinggi segitiga\n",
        "def sisi_miring(x,y):\n",
        "  z = (x**2 + y**2)**(1/2)\n",
        "  return z\n",
        "\n",
        "sisi_miring(6,8)"
      ],
      "execution_count": 1,
      "outputs": [
        {
          "output_type": "execute_result",
          "data": {
            "text/plain": [
              "10.0"
            ]
          },
          "metadata": {},
          "execution_count": 1
        }
      ]
    },
    {
      "cell_type": "markdown",
      "metadata": {
        "id": "71KQJdGUc2lG"
      },
      "source": [
        "###Latihan 2"
      ]
    },
    {
      "cell_type": "markdown",
      "metadata": {
        "id": "OFs75ezNc4ha"
      },
      "source": [
        "Buatlah Function Luas Permukaan Balok dengan input argumennya panjang, lebar, dan tinggi dari balok untuk menghasilkan output nilai luas permukaan balok tersebut."
      ]
    },
    {
      "cell_type": "code",
      "metadata": {
        "id": "sdhETmEOdIMe",
        "colab": {
          "base_uri": "https://localhost:8080/"
        },
        "outputId": "7ea0116b-7c2c-40c2-b90a-f9aafe680db1"
      },
      "source": [
        "# Ketikkan codemu\n",
        "# Luas permukaan balok\n",
        "# p = panjang, l = lebar, t = tinggi\n",
        "def luas_permukaan(p,l,t):\n",
        "    a = 2*(p*l) + 2*(p*t) + 2*(l*t)\n",
        "    return a\n",
        "\n",
        "luaspermukaan(2,4,6)"
      ],
      "execution_count": 3,
      "outputs": [
        {
          "output_type": "execute_result",
          "data": {
            "text/plain": [
              "88"
            ]
          },
          "metadata": {},
          "execution_count": 3
        }
      ]
    }
  ]
}