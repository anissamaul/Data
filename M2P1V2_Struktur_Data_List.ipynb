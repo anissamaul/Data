{
  "nbformat": 4,
  "nbformat_minor": 0,
  "metadata": {
    "colab": {
      "name": "M2P1V2_Struktur_Data_List.ipynb",
      "provenance": [],
      "collapsed_sections": []
    },
    "kernelspec": {
      "name": "python3",
      "display_name": "Python 3"
    },
    "language_info": {
      "name": "python"
    }
  },
  "cells": [
    {
      "cell_type": "markdown",
      "metadata": {
        "id": "WM87RARe9et7"
      },
      "source": [
        "###List"
      ]
    },
    {
      "cell_type": "markdown",
      "metadata": {
        "id": "psQZ9g_Z9oss"
      },
      "source": [
        "List adalah jenis kumpulan data terurut (ordered sequence), dan merupakan salah satu variabel yang sering digunakan pada Python. Serupa, namun tak sama dengan array pada bahasa pemrograman lainnya. Bedanya, elemen List pada Python tidak harus memiliki tipe data yang sama. Mendeklarasikan List cukup mudah dengan kurung siku dan elemen yang dipisahkan dengan koma. "
      ]
    },
    {
      "cell_type": "markdown",
      "metadata": {
        "id": "Gs-Pw5Xs-l86"
      },
      "source": [
        "Setiap data di dalamnya dapat diakses dengan indeks yang dimulai dari 0."
      ]
    },
    {
      "cell_type": "code",
      "metadata": {
        "colab": {
          "base_uri": "https://localhost:8080/"
        },
        "id": "K-SkKTjr-uMg",
        "outputId": "453d3388-ac0a-485a-cfd2-f6a13181cad6"
      },
      "source": [
        "#Contoh List\n",
        "L1 = [1, 4, 2, 13]\n",
        "\n",
        "print(type(L1))"
      ],
      "execution_count": null,
      "outputs": [
        {
          "output_type": "stream",
          "name": "stdout",
          "text": [
            "<class 'list'>\n"
          ]
        }
      ]
    },
    {
      "cell_type": "code",
      "metadata": {
        "colab": {
          "base_uri": "https://localhost:8080/"
        },
        "id": "Jn4BWhpN-8O6",
        "outputId": "413172f0-6145-457d-be64-daa22e772f7a"
      },
      "source": [
        "L2 = [\"a\",\"Python\",3]\n",
        "L2"
      ],
      "execution_count": null,
      "outputs": [
        {
          "output_type": "execute_result",
          "data": {
            "text/plain": [
              "['a', 'Python', 3]"
            ]
          },
          "metadata": {},
          "execution_count": 2
        }
      ]
    },
    {
      "cell_type": "code",
      "metadata": {
        "colab": {
          "base_uri": "https://localhost:8080/"
        },
        "id": "wtPE9MK1BxqZ",
        "outputId": "17129b0f-17d1-4678-8dae-3255fb66dc1f"
      },
      "source": [
        "print(L1)\n",
        "print(L2)"
      ],
      "execution_count": null,
      "outputs": [
        {
          "output_type": "stream",
          "name": "stdout",
          "text": [
            "[1, 4, 2, 13]\n",
            "['a', 'Python', 3]\n"
          ]
        }
      ]
    },
    {
      "cell_type": "markdown",
      "metadata": {
        "id": "bJXc-tImB8uy"
      },
      "source": [
        "Latihan 1"
      ]
    },
    {
      "cell_type": "code",
      "metadata": {
        "id": "qAFJLSwKHOrd",
        "colab": {
          "base_uri": "https://localhost:8080/"
        },
        "outputId": "3fa43095-16c4-4325-fbd4-5ac08ec42417"
      },
      "source": [
        "#Buatlah List kalian sendiri\n",
        "MOTS7 = [\"ON\",\"Black Swan\",\"Lounder Than Bombs\",\"WAB:the Enternal\"]\n",
        "print(type(MOTS7))\n"
      ],
      "execution_count": 1,
      "outputs": [
        {
          "output_type": "stream",
          "name": "stdout",
          "text": [
            "<class 'list'>\n"
          ]
        }
      ]
    },
    {
      "cell_type": "code",
      "metadata": {
        "colab": {
          "base_uri": "https://localhost:8080/"
        },
        "id": "rDLUep5mbh4k",
        "outputId": "79662be4-7512-4e8c-8256-9cd24fc2ced8"
      },
      "source": [
        "Persona = [\"Boy With Luv\",\"Dionysus\",\"Mikrokosmos\",\"Home\",\"Make it Right\"]\n",
        "Persona"
      ],
      "execution_count": 4,
      "outputs": [
        {
          "output_type": "execute_result",
          "data": {
            "text/plain": [
              "['Boy With Luv', 'Dionysus', 'Mikrokosmos', 'Home', 'Make it Right']"
            ]
          },
          "metadata": {},
          "execution_count": 4
        }
      ]
    },
    {
      "cell_type": "code",
      "metadata": {
        "colab": {
          "base_uri": "https://localhost:8080/"
        },
        "id": "w5ypGWFpb6tR",
        "outputId": "354e1dc7-efe2-467c-f96e-749bccbf6cf3"
      },
      "source": [
        "print(MOTS7)\n",
        "print(Persona)"
      ],
      "execution_count": 5,
      "outputs": [
        {
          "output_type": "stream",
          "name": "stdout",
          "text": [
            "['ON', 'Black Swan', 'Lounder Than Bombs', 'WAB:the Enternal']\n",
            "['Boy With Luv', 'Dionysus', 'Mikrokosmos', 'Home', 'Make it Right']\n"
          ]
        }
      ]
    },
    {
      "cell_type": "markdown",
      "metadata": {
        "id": "mBo4G2ffCEZA"
      },
      "source": [
        "Indeks di Python (List,Tuple) mulai dari **0**"
      ]
    },
    {
      "cell_type": "code",
      "metadata": {
        "colab": {
          "base_uri": "https://localhost:8080/"
        },
        "id": "8bD8VOVRCSd7",
        "outputId": "bb52ee7a-320a-46ba-96d6-2d9338a68683"
      },
      "source": [
        "#Sifat-sifat List\n",
        "\n",
        "#Terurut/Ordered\n",
        "print(\"Memanggil List L1 dengan indeks urutan:\", L1[0:3])\n",
        "\n",
        "#Bisa Diganti/Mutable\n",
        "L1[1] = 2\n",
        "print(\"List L1 setelah diganti elemennya:\", L1)\n",
        "\n",
        "L1 = [1, \"dua\", True, 2+3j]\n",
        "\n",
        "#Dapat Diindeks/Slicing\n",
        "print(\"Slicing List L1:\", L1[3])\n",
        "\n",
        "#Dapat Dijinkan Duplikasi\n",
        "L1 = [1, \"dua\", True, 2+3j, 2+3j]\n",
        "print(\"Duplikasi pada List L1:\", L1)"
      ],
      "execution_count": null,
      "outputs": [
        {
          "output_type": "stream",
          "name": "stdout",
          "text": [
            "Memanggil List L1 dengan indeks urutan: [1, 4, 2]\n",
            "List L1 setelah diganti elemennya: [1, 2, 2, 13]\n",
            "Slicing List L1: (2+3j)\n",
            "Duplikasi pada List L1: [1, 'dua', True, (2+3j), (2+3j)]\n"
          ]
        }
      ]
    },
    {
      "cell_type": "markdown",
      "metadata": {
        "id": "OhKZ3iumHExf"
      },
      "source": [
        "Latihan 2"
      ]
    },
    {
      "cell_type": "code",
      "metadata": {
        "colab": {
          "base_uri": "https://localhost:8080/"
        },
        "id": "kWY1HyercqHC",
        "outputId": "0a31a8ce-e5f4-47d5-c092-26e694e2d363"
      },
      "source": [
        "#Ganti elemen yang ada pada List yang kalian buat\n",
        "\n",
        "#Terurut/Ordered\n",
        "print(\"Memanggil List MOTS7 dengan indeks urutan:\",MOTS7[0:2])\n",
        "print(\"Memanggil List Persona dengan indeks urutan:\",Persona[0:4])\n",
        "print('-'*20)\n",
        "\n",
        "# Bisa Diganti/Mutable\n",
        "MOTS7[3]    = \"Respect\"\n",
        "Persona[2]   = \"Jamais VU\"\n",
        "print(\"List MOTS7 setelah diganti elemennya:\",MOTS7)\n",
        "print(\"List Persona setelah diganti elemennya:\",Persona)\n",
        "print('-'*20)\n",
        "\n",
        "# Dapat diindeks/slicing\n",
        "MOTS7  = [9,\"Filter\",\"Moon\",14+3j]\n",
        "Persona = [7,\"Spring Day\",\"Not Today\",\"Wings\",6+1j]\n",
        "print(\"Slicing List MOTS7:\",MOTS7[2])\n",
        "print(\"Slicing List Persona:\",Persona[3])\n",
        "print('-'*20)\n",
        "\n",
        "# Dapat Diijinkan Duplikasi\n",
        "MOTS7  = [9,\"Filter\",\"Moon\",14+3j]\n",
        "Persona = [7,\"Spring Day\",\"Not Today\",\"Wings\",6+1j,26+2j]\n",
        "print(\"Duplikasi List MOTS7:\",MOTS7)\n",
        "print(\"Duplikasi List Persona:\",Persona)"
      ],
      "execution_count": 7,
      "outputs": [
        {
          "output_type": "stream",
          "name": "stdout",
          "text": [
            "Memanggil List MOTS7 dengan indeks urutan: ['ON', 'Black Swan']\n",
            "Memanggil List Persona dengan indeks urutan: ['Boy With Luv', 'Dionysus', 'Mikrokosmos', 'Home']\n",
            "--------------------\n",
            "List MOTS7 setelah diganti elemennya: ['ON', 'Black Swan', 'Lounder Than Bombs', 'Respect']\n",
            "List Persona setelah diganti elemennya: ['Boy With Luv', 'Dionysus', 'Jamais VU', 'Home', 'Make it Right']\n",
            "--------------------\n",
            "Slicing List MOTS7: Moon\n",
            "Slicing List Persona: Wings\n",
            "--------------------\n",
            "Duplikasi List MOTS7: [9, 'Filter', 'Moon', (14+3j)]\n",
            "Duplikasi List Persona: [7, 'Spring Day', 'Not Today', 'Wings', (6+1j), (26+2j)]\n"
          ]
        }
      ]
    }
  ]
}