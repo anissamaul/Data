{
  "nbformat": 4,
  "nbformat_minor": 0,
  "metadata": {
    "colab": {
      "name": "M2P2V3_Konversi Struktur Data.ipynb",
      "provenance": [],
      "collapsed_sections": []
    },
    "kernelspec": {
      "name": "python3",
      "display_name": "Python 3"
    },
    "language_info": {
      "name": "python"
    }
  },
  "cells": [
    {
      "cell_type": "markdown",
      "metadata": {
        "id": "UTf5XSZOjGfz"
      },
      "source": [
        "##Konversi Struktur Data"
      ]
    },
    {
      "cell_type": "markdown",
      "metadata": {
        "id": "T4z8HXfljLqT"
      },
      "source": [
        "Fungsi untuk mengubah/konversi struktur data :\n",
        "\n",
        "a.   `list()` : untuk mengubah menjadi list\n",
        "\n",
        "b.   `tuple()` : untuk mengubah menjadi tuple\n",
        "\n",
        "c.   `set()` : untuk mengubah menjadi set\n",
        "\n",
        "d.   `dict()` : untuk mengubah menjadi dictonary\n",
        "\n",
        "\n",
        "\n"
      ]
    },
    {
      "cell_type": "markdown",
      "metadata": {
        "id": "Ny3ZG02Xjz2j"
      },
      "source": [
        "###Mengkonversi tipe data list :"
      ]
    },
    {
      "cell_type": "code",
      "metadata": {
        "id": "GpgWsZyXj85S"
      },
      "source": [
        "# membuat 2 list\n",
        "L1 = [1, 2, 3, 4]\n",
        "L2 = [5, 6, 7, 8]"
      ],
      "execution_count": 6,
      "outputs": []
    },
    {
      "cell_type": "code",
      "metadata": {
        "id": "OsyXOWvFkGti",
        "colab": {
          "base_uri": "https://localhost:8080/"
        },
        "outputId": "97895eeb-6a44-461d-8b67-2b469c9eede5"
      },
      "source": [
        "# Mengkonversi struktur data list\n",
        "k_tuple = tuple(L1)\n",
        "k_set = set(L1)\n",
        "k_dict = dict(zip(L1, L2))\n",
        "\n",
        "# Melihat data yang telah dikonversi\n",
        "print(k_tuple)\n",
        "print(k_set)\n",
        "print(k_dict)"
      ],
      "execution_count": 7,
      "outputs": [
        {
          "output_type": "stream",
          "name": "stdout",
          "text": [
            "(1, 2, 3, 4)\n",
            "{1, 2, 3, 4}\n",
            "{1: 5, 2: 6, 3: 7, 4: 8}\n"
          ]
        }
      ]
    },
    {
      "cell_type": "markdown",
      "metadata": {
        "id": "aajpL9lRkjvD"
      },
      "source": [
        "###Mengkonversi tipe data tuple :"
      ]
    },
    {
      "cell_type": "code",
      "metadata": {
        "id": "00qzZlIPkqXq"
      },
      "source": [
        "# Membuat dua tuple\n",
        "T1 = (1, 2, 3, 4)\n",
        "T2 = (5, 6, 7, 8)"
      ],
      "execution_count": 8,
      "outputs": []
    },
    {
      "cell_type": "code",
      "metadata": {
        "id": "IBqxq034k2ca",
        "colab": {
          "base_uri": "https://localhost:8080/"
        },
        "outputId": "da9e9e8f-e2c4-4d5c-c6d8-789167614314"
      },
      "source": [
        "# Mengkonversi struktur data tuple\n",
        "k_list = list(T1)\n",
        "k_set = set(T1)\n",
        "k_dict = dict(zip(T1, T2))\n",
        "\n",
        "# Melihat data yang telah dikonversi\n",
        "print(k_list)\n",
        "print(k_set)\n",
        "print(k_dict)"
      ],
      "execution_count": 9,
      "outputs": [
        {
          "output_type": "stream",
          "name": "stdout",
          "text": [
            "[1, 2, 3, 4]\n",
            "{1, 2, 3, 4}\n",
            "{1: 5, 2: 6, 3: 7, 4: 8}\n"
          ]
        }
      ]
    },
    {
      "cell_type": "markdown",
      "metadata": {
        "id": "n5NY5L1AmiAi"
      },
      "source": [
        "###Mengkonversi tipe data set :"
      ]
    },
    {
      "cell_type": "code",
      "metadata": {
        "id": "top5nemqmnFy"
      },
      "source": [
        "# Membuat dua set\n",
        "S1 = {1, 2, 3, 4}\n",
        "S2 = {5, 6, 7, 8}"
      ],
      "execution_count": 10,
      "outputs": []
    },
    {
      "cell_type": "code",
      "metadata": {
        "id": "7ketoGF5mzq9"
      },
      "source": [
        "# Mengkonversi struktur data set\n",
        "k_list = list(S1)\n",
        "k_tuple = tuple(S1)\n",
        "k_dict = dict(zip(S1, S2))\n",
        "\n",
        "# Melihat data yang telah dikonversi\n",
        "print(k_list)\n",
        "print(k_tuple)\n",
        "print(k_dict)"
      ],
      "execution_count": null,
      "outputs": []
    },
    {
      "cell_type": "markdown",
      "metadata": {
        "id": "CcYCZrbgnSSo"
      },
      "source": [
        "###Mengkonversi tipe data list"
      ]
    },
    {
      "cell_type": "code",
      "metadata": {
        "id": "a80hfIWQnXpY"
      },
      "source": [
        "# Membuat dictionary\n",
        "D = {\n",
        "    \"nama\" : \"Andi\",\n",
        "    \"alamat\" : \"Yogyakarta\",\n",
        "    \"umur\" : 20\n",
        "}"
      ],
      "execution_count": 11,
      "outputs": []
    },
    {
      "cell_type": "code",
      "metadata": {
        "id": "NqCGGQEcn7T0",
        "colab": {
          "base_uri": "https://localhost:8080/"
        },
        "outputId": "4feb9283-22ba-4cf7-96d6-5355e96ff7fb"
      },
      "source": [
        "# Mengkonversi struktur data dictionary dari key dan value-nya\n",
        "k_list = list(D.keys())\n",
        "k_tuple = tuple(D.values())\n",
        "k_set = set(D.keys())\n",
        "\n",
        "# Melihat data yang telah dikonversi\n",
        "print(k_list)\n",
        "print(k_tuple)\n",
        "print(k_set)"
      ],
      "execution_count": 12,
      "outputs": [
        {
          "output_type": "stream",
          "name": "stdout",
          "text": [
            "['nama', 'alamat', 'umur']\n",
            "('Andi', 'Yogyakarta', 20)\n",
            "{'nama', 'alamat', 'umur'}\n"
          ]
        }
      ]
    },
    {
      "cell_type": "markdown",
      "metadata": {
        "id": "0_2i7B50ogO5"
      },
      "source": [
        "###Latihan"
      ]
    },
    {
      "cell_type": "code",
      "metadata": {
        "id": "8dVI0CpdoiuB"
      },
      "source": [
        "# Lakukan konversi struktur data yang kalian buat pada notebook-notebook\n",
        "# sebelumnya menjadi list, tuple, set, dan dictionary (masing-masing satu)"
      ],
      "execution_count": null,
      "outputs": []
    },
    {
      "cell_type": "code",
      "metadata": {
        "id": "9mcJMtEfhr_p"
      },
      "source": [
        "# Struktur data list\n",
        "MOTS7 = [\"ON\",\"Black Swan\",\"Lounder Than Bombs\",\"WAB:the Enternal\"]\n",
        "Persona = [\"Boy With Luv\",\"Dionysus\",\"Mikrokosmos\",\"Home\",\"Make it Right\"]"
      ],
      "execution_count": 13,
      "outputs": []
    },
    {
      "cell_type": "code",
      "metadata": {
        "id": "wcUuFMIuh144",
        "colab": {
          "base_uri": "https://localhost:8080/"
        },
        "outputId": "dd7b732e-bb7c-422b-b8c3-09b84b38e053"
      },
      "source": [
        "# Mengkonversi struktur data list\n",
        "k_tuple = tuple(MOTS7)\n",
        "k_set = set(MOTS7)\n",
        "k_dict = dict(zip(MOTS7, Persona))\n",
        "\n",
        "# Melihat data yang telah dikonversi\n",
        "print(k_tuple)\n",
        "print(k_set)\n",
        "print(k_dict)"
      ],
      "execution_count": 14,
      "outputs": [
        {
          "output_type": "stream",
          "name": "stdout",
          "text": [
            "('ON', 'Black Swan', 'Lounder Than Bombs', 'WAB:the Enternal')\n",
            "{'Lounder Than Bombs', 'ON', 'WAB:the Enternal', 'Black Swan'}\n",
            "{'ON': 'Boy With Luv', 'Black Swan': 'Dionysus', 'Lounder Than Bombs': 'Mikrokosmos', 'WAB:the Enternal': 'Home'}\n"
          ]
        }
      ]
    },
    {
      "cell_type": "code",
      "metadata": {
        "id": "aK-jeYddiO7x"
      },
      "source": [
        "# Struktur data tuple\n",
        "BG = (\"2PM\",\"Suju\",\"EXO\",\"NCT\")\n",
        "GG = (\"SNSD\",\"Fx\",\"Red velvet\",\"Aespa\")"
      ],
      "execution_count": 15,
      "outputs": []
    },
    {
      "cell_type": "code",
      "metadata": {
        "id": "T3FkMMzzi4tq",
        "colab": {
          "base_uri": "https://localhost:8080/"
        },
        "outputId": "ec4be066-508f-4c7d-db5b-e6c6f86c70d5"
      },
      "source": [
        "# Mengkonversi struktur data tuple\n",
        "k_list = list(BG)\n",
        "k_set = set(GG)\n",
        "k_dict = dict(zip(BG, GG))\n",
        "\n",
        "# Melihat data yang telah dikonversi\n",
        "print(k_list)\n",
        "print(k_set)\n",
        "print(k_dict)"
      ],
      "execution_count": 16,
      "outputs": [
        {
          "output_type": "stream",
          "name": "stdout",
          "text": [
            "['2PM', 'Suju', 'EXO', 'NCT']\n",
            "{'Aespa', 'SNSD', 'Fx', 'Red velvet'}\n",
            "{'2PM': 'SNSD', 'Suju': 'Fx', 'EXO': 'Red velvet', 'NCT': 'Aespa'}\n"
          ]
        }
      ]
    },
    {
      "cell_type": "code",
      "metadata": {
        "id": "8hxlOmYXjL3w"
      },
      "source": [
        "# Struktur data set\n",
        "S2 = {1, \"Butter\", True, 3+7j}\n",
        "S3 = {\"Dynamite\", \"My Universe\", 11, 7+4j}"
      ],
      "execution_count": 17,
      "outputs": []
    },
    {
      "cell_type": "code",
      "metadata": {
        "id": "OB0Q-kCMkGBX",
        "colab": {
          "base_uri": "https://localhost:8080/"
        },
        "outputId": "20f7d977-78e9-4258-a36c-c2a49b4286b9"
      },
      "source": [
        "# Mengkonversi struktur data set\n",
        "k_list = list(S2)\n",
        "k_tuple = tuple(S2)\n",
        "k_dict = dict(zip(S2, S3))\n",
        "\n",
        "# Melihat data yang telah dikonversi\n",
        "print(k_list)\n",
        "print(k_tuple)\n",
        "print(k_dict)"
      ],
      "execution_count": 18,
      "outputs": [
        {
          "output_type": "stream",
          "name": "stdout",
          "text": [
            "[(3+7j), 1, 'Butter']\n",
            "((3+7j), 1, 'Butter')\n",
            "{(3+7j): 'Dynamite', 1: (7+4j), 'Butter': 11}\n"
          ]
        }
      ]
    },
    {
      "cell_type": "code",
      "metadata": {
        "id": "4jknEC74kPUv",
        "colab": {
          "base_uri": "https://localhost:8080/"
        },
        "outputId": "f4f10eeb-fa4a-401b-8b42-18cb98768e41"
      },
      "source": [
        "# Struktur data dictionary\n",
        "D2 = {'lys Her':'mic drop',\n",
        "      'lys Tear': 'magic shop',\n",
        "      'lys Answer':'love myself'\n",
        "      }\n",
        "print(type(D2))\n",
        "print('-'*20)"
      ],
      "execution_count": 19,
      "outputs": [
        {
          "output_type": "stream",
          "name": "stdout",
          "text": [
            "<class 'dict'>\n",
            "--------------------\n"
          ]
        }
      ]
    },
    {
      "cell_type": "code",
      "metadata": {
        "id": "_F-z1phEkdj2",
        "colab": {
          "base_uri": "https://localhost:8080/"
        },
        "outputId": "f9f07449-c76a-4322-b531-73fb70feb480"
      },
      "source": [
        "# Mengkonversi struktur data dictionary dari key dan value-nya\n",
        "k_list = list(D2.keys())\n",
        "k_tuple = tuple(D2.values())\n",
        "k_set = set(D2.keys())\n",
        "\n",
        "# Melihat data yang telah dikonversi\n",
        "print(k_list)\n",
        "print(k_tuple)\n",
        "print(k_set)"
      ],
      "execution_count": 20,
      "outputs": [
        {
          "output_type": "stream",
          "name": "stdout",
          "text": [
            "['lys Her', 'lys Tear', 'lys Answer']\n",
            "('mic drop', 'magic shop', 'love myself')\n",
            "{'lys Answer', 'lys Tear', 'lys Her'}\n"
          ]
        }
      ]
    }
  ]
}