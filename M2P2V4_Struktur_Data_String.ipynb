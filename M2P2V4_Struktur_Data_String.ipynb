{
  "nbformat": 4,
  "nbformat_minor": 0,
  "metadata": {
    "colab": {
      "name": "M2P2V4_Struktur_Data_String.ipynb",
      "provenance": [],
      "collapsed_sections": []
    },
    "kernelspec": {
      "name": "python3",
      "display_name": "Python 3"
    },
    "language_info": {
      "name": "python"
    }
  },
  "cells": [
    {
      "cell_type": "markdown",
      "metadata": {
        "id": "WKE3vcN8GvD9"
      },
      "source": [
        "##String"
      ]
    },
    {
      "cell_type": "markdown",
      "metadata": {
        "id": "5uDzx2urGyxW"
      },
      "source": [
        "String di deklarasikan dengan di apit oleh tanda petik."
      ]
    },
    {
      "cell_type": "code",
      "metadata": {
        "id": "Br6aXwy2G5Sd",
        "colab": {
          "base_uri": "https://localhost:8080/"
        },
        "outputId": "cb287d08-656d-4347-8385-1c6cc4183002"
      },
      "source": [
        "# Menampilkan string dengan fungsi print()\n",
        "print(\"Hello World!\")"
      ],
      "execution_count": 1,
      "outputs": [
        {
          "output_type": "stream",
          "name": "stdout",
          "text": [
            "Hello World!\n"
          ]
        }
      ]
    },
    {
      "cell_type": "code",
      "metadata": {
        "id": "tlp0oVrHHGIk",
        "colab": {
          "base_uri": "https://localhost:8080/"
        },
        "outputId": "e1ff64df-cd6c-4185-ec70-2825a8ea81d2"
      },
      "source": [
        "# Membuat variabel bertipe string\n",
        "A = \"Belajar Struktur data string\"\n",
        "print(A)"
      ],
      "execution_count": 2,
      "outputs": [
        {
          "output_type": "stream",
          "name": "stdout",
          "text": [
            "Belajar Struktur data string\n"
          ]
        }
      ]
    },
    {
      "cell_type": "code",
      "metadata": {
        "id": "09WAbd0wHQrC",
        "colab": {
          "base_uri": "https://localhost:8080/"
        },
        "outputId": "fddd4f2e-330e-4672-b433-a634a609b712"
      },
      "source": [
        "# Membuat variabel string multi-line dengan 3 tanda petik\n",
        "B = \"\"\"Belajar Python\n",
        "Pejuang data 3.0\n",
        "PSDS\n",
        "String\"\"\"\n",
        "print(B)"
      ],
      "execution_count": 3,
      "outputs": [
        {
          "output_type": "stream",
          "name": "stdout",
          "text": [
            "Belajar Python\n",
            "Pejuang data 3.0\n",
            "PSDS\n",
            "String\n"
          ]
        }
      ]
    },
    {
      "cell_type": "code",
      "metadata": {
        "id": "r59BuWcqHhAb",
        "colab": {
          "base_uri": "https://localhost:8080/"
        },
        "outputId": "dd64a3b4-7c16-436b-9492-940190ae2997"
      },
      "source": [
        "# Menampilkan karakter tertentu dalam string\n",
        "print(A[2])"
      ],
      "execution_count": 4,
      "outputs": [
        {
          "output_type": "stream",
          "name": "stdout",
          "text": [
            "l\n"
          ]
        }
      ]
    },
    {
      "cell_type": "code",
      "metadata": {
        "id": "ptrr0R58HoUs",
        "colab": {
          "base_uri": "https://localhost:8080/"
        },
        "outputId": "f3cceb95-e92f-4d0b-fb5d-7e4f70be7a34"
      },
      "source": [
        "# Slicing pada String\n",
        "A = \"Belajar Struktur data string\"\n",
        "print(A[:5])\n",
        "print(A[3:])\n",
        "print(A[-5:])\n",
        "print(A[4:9])"
      ],
      "execution_count": 5,
      "outputs": [
        {
          "output_type": "stream",
          "name": "stdout",
          "text": [
            "Belaj\n",
            "ajar Struktur data string\n",
            "tring\n",
            "jar S\n"
          ]
        }
      ]
    },
    {
      "cell_type": "markdown",
      "metadata": {
        "id": "954huI7BIBSt"
      },
      "source": [
        "##Latihan 1"
      ]
    },
    {
      "cell_type": "code",
      "metadata": {
        "id": "HfYLbSJCIEFU",
        "colab": {
          "base_uri": "https://localhost:8080/"
        },
        "outputId": "b9cf38a0-8ed3-49b1-dfb3-66761197b047"
      },
      "source": [
        "# Buatlah variabel string lalu lakukan slicing dengan menghilangkan karakter pertama dan terakhir\n",
        "P = \"Permission To Dance\"\n",
        "print(P)"
      ],
      "execution_count": 6,
      "outputs": [
        {
          "output_type": "stream",
          "name": "stdout",
          "text": [
            "Permission To Dance\n"
          ]
        }
      ]
    },
    {
      "cell_type": "code",
      "metadata": {
        "id": "zbZ7mo05IzVV",
        "colab": {
          "base_uri": "https://localhost:8080/"
        },
        "outputId": "c9b2eb68-7b4e-4d4b-cf8f-6ff37e2b479d"
      },
      "source": [
        "# Slicing pada String\n",
        "P = \"Permission To Dance\"\n",
        "print(P[1:])\n",
        "print(P[:18])\n",
        "print(P[1:18])"
      ],
      "execution_count": 10,
      "outputs": [
        {
          "output_type": "stream",
          "name": "stdout",
          "text": [
            "ermission To Dance\n",
            "Permission To Danc\n",
            "ermission To Danc\n"
          ]
        }
      ]
    },
    {
      "cell_type": "markdown",
      "metadata": {
        "id": "8WbENIzKJILO"
      },
      "source": [
        "##Memodifikasi String"
      ]
    },
    {
      "cell_type": "code",
      "metadata": {
        "id": "OjJEke_5JMbN",
        "colab": {
          "base_uri": "https://localhost:8080/",
          "height": 35
        },
        "outputId": "47d4da02-e01c-4799-de15-056f1b5cc935"
      },
      "source": [
        "# upper()\n",
        "A.upper()"
      ],
      "execution_count": 11,
      "outputs": [
        {
          "output_type": "execute_result",
          "data": {
            "application/vnd.google.colaboratory.intrinsic+json": {
              "type": "string"
            },
            "text/plain": [
              "'BELAJAR STRUKTUR DATA STRING'"
            ]
          },
          "metadata": {},
          "execution_count": 11
        }
      ]
    },
    {
      "cell_type": "code",
      "metadata": {
        "id": "R9XRRpVGdvtB",
        "colab": {
          "base_uri": "https://localhost:8080/",
          "height": 35
        },
        "outputId": "5f7bf88d-b151-4326-a323-a61167a89cf8"
      },
      "source": [
        "# lower()\n",
        "A.lower()"
      ],
      "execution_count": 12,
      "outputs": [
        {
          "output_type": "execute_result",
          "data": {
            "application/vnd.google.colaboratory.intrinsic+json": {
              "type": "string"
            },
            "text/plain": [
              "'belajar struktur data string'"
            ]
          },
          "metadata": {},
          "execution_count": 12
        }
      ]
    },
    {
      "cell_type": "code",
      "metadata": {
        "id": "MQJ0nT4Pd1Pz",
        "colab": {
          "base_uri": "https://localhost:8080/",
          "height": 35
        },
        "outputId": "73ce0d18-cd58-4760-a7d6-3fa59068cfb5"
      },
      "source": [
        "# strip()\n",
        "A.strip()"
      ],
      "execution_count": 13,
      "outputs": [
        {
          "output_type": "execute_result",
          "data": {
            "application/vnd.google.colaboratory.intrinsic+json": {
              "type": "string"
            },
            "text/plain": [
              "'Belajar Struktur data string'"
            ]
          },
          "metadata": {},
          "execution_count": 13
        }
      ]
    },
    {
      "cell_type": "code",
      "metadata": {
        "id": "enK8Xm-zd7Lf",
        "colab": {
          "base_uri": "https://localhost:8080/",
          "height": 35
        },
        "outputId": "89cd19eb-4745-4e3d-fae2-6d526122ea5d"
      },
      "source": [
        "# replace()\n",
        "A.replace('1', 'd')"
      ],
      "execution_count": 14,
      "outputs": [
        {
          "output_type": "execute_result",
          "data": {
            "application/vnd.google.colaboratory.intrinsic+json": {
              "type": "string"
            },
            "text/plain": [
              "'Belajar Struktur data string'"
            ]
          },
          "metadata": {},
          "execution_count": 14
        }
      ]
    },
    {
      "cell_type": "code",
      "metadata": {
        "id": "-nnvimsKeDyX",
        "colab": {
          "base_uri": "https://localhost:8080/"
        },
        "outputId": "41dc9168-0eb9-4b9c-97c2-fc2ba399f24a"
      },
      "source": [
        "# split()\n",
        "A.split()"
      ],
      "execution_count": 15,
      "outputs": [
        {
          "output_type": "execute_result",
          "data": {
            "text/plain": [
              "['Belajar', 'Struktur', 'data', 'string']"
            ]
          },
          "metadata": {},
          "execution_count": 15
        }
      ]
    },
    {
      "cell_type": "markdown",
      "metadata": {
        "id": "O8XZzBXIeJbl"
      },
      "source": [
        "##Menggabungkan String"
      ]
    },
    {
      "cell_type": "code",
      "metadata": {
        "id": "nPRbYmMFeVol",
        "colab": {
          "base_uri": "https://localhost:8080/",
          "height": 35
        },
        "outputId": "65b89a2b-950b-486c-c050-5cde97c77c0c"
      },
      "source": [
        "A = \"Belajar Struktur data string\"\n",
        "B = \"Pejuang Data 3.0\"\n",
        "A + \" \" + B"
      ],
      "execution_count": 16,
      "outputs": [
        {
          "output_type": "execute_result",
          "data": {
            "application/vnd.google.colaboratory.intrinsic+json": {
              "type": "string"
            },
            "text/plain": [
              "'Belajar Struktur data string Pejuang Data 3.0'"
            ]
          },
          "metadata": {},
          "execution_count": 16
        }
      ]
    },
    {
      "cell_type": "markdown",
      "metadata": {
        "id": "o0mfO4Cyej9h"
      },
      "source": [
        "###Latihan 2"
      ]
    },
    {
      "cell_type": "code",
      "metadata": {
        "id": "2ETWGIXtenVg",
        "colab": {
          "base_uri": "https://localhost:8080/"
        },
        "outputId": "a0b5fb6b-6606-4af0-c390-a3087ebbb72a"
      },
      "source": [
        "# Ganti semua huruf vokal menjadi \"i\" pada string yang telah kalian buat pada latihan 1\n",
        "\n",
        "print(P.replace('e', 'i'))\n",
        "print(P.replace('o', 'i'))\n",
        "print(P.replace('a', 'i'))"
      ],
      "execution_count": 17,
      "outputs": [
        {
          "output_type": "stream",
          "name": "stdout",
          "text": [
            "Pirmission To Danci\n",
            "Permissiin Ti Dance\n",
            "Permission To Dince\n"
          ]
        }
      ]
    }
  ]
}