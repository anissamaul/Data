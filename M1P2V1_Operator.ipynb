{
  "nbformat": 4,
  "nbformat_minor": 0,
  "metadata": {
    "colab": {
      "name": "M1P2V1_Operator.ipynb",
      "provenance": [],
      "collapsed_sections": []
    },
    "kernelspec": {
      "name": "python3",
      "display_name": "Python 3"
    },
    "language_info": {
      "name": "python"
    }
  },
  "cells": [
    {
      "cell_type": "markdown",
      "metadata": {
        "id": "79txd1DTGoUr"
      },
      "source": [
        "#Operator"
      ]
    },
    {
      "cell_type": "markdown",
      "metadata": {
        "id": "TWgEfCK0HOnS"
      },
      "source": [
        "Operator = Simbol-simbol yang dapat digunakan untuk mengubah nilai dari satu variabel dengan melibatkan satu atau lebih variabel dan literal.\n",
        "tipe-tiep operator\n",
        "1.   Operator Aritmatika\n",
        "2.   Operator Assignment\n",
        "3.   Operator Pembanding\n",
        "4.   Operator Logika\n",
        "5.   Operator Membership\n",
        "\n",
        "\n",
        "\n",
        "\n",
        "\n"
      ]
    },
    {
      "cell_type": "markdown",
      "metadata": {
        "id": "12LbyW1lIDjL"
      },
      "source": [
        "#Operator Aritmatika"
      ]
    },
    {
      "cell_type": "markdown",
      "metadata": {
        "id": "wLRyqOizIHzJ"
      },
      "source": [
        "Operator Aritmatika digunakan untuk melakukan operasi matematika yang umum.\n",
        "\n",
        "macam-macam operator aritmatika:\n",
        "\n",
        "\n"
      ]
    },
    {
      "cell_type": "markdown",
      "metadata": {
        "id": "XSQv1bOEhWKT"
      },
      "source": [
        "\n",
        "\n",
        "```\n",
        "+  : Penjumlahan\n",
        "-  : Pengurangan\n",
        "*  : Perkalian\n",
        "/  : Pembagian\n",
        "%  : Modulus\n",
        "** : Perpangkatan\n",
        "// : Pembagian dengan hasil pembulatan flooring\n",
        "```\n",
        "\n"
      ]
    },
    {
      "cell_type": "code",
      "metadata": {
        "id": "aPr1cdoyMp00"
      },
      "source": [
        "# Contoh penggunaan operator aritmatika\n",
        "\n",
        "#Penjumlahan\n",
        "print('Penjumlahan')\n",
        "print(2+2)\n",
        "#Pengurangan\n",
        "print('-'*20)\n",
        "print('Pengurangan')\n",
        "print(2-3)\n",
        "#Perkalian\n",
        "print('-'*20)\n",
        "print('Perkalian')\n",
        "print(2*3)\n",
        "#Pembagian\n",
        "print('-'*20)\n",
        "print('Pembagian')\n",
        "print(2/3)\n",
        "#Modulus\n",
        "print('-'*20)\n",
        "print('Modulus')\n",
        "print(2%3)\n",
        "#Perpangkatan\n",
        "print('_'*20)\n",
        "print('Perpangkatan')\n",
        "print(2**3)\n",
        "#Pembagian Pembulatan Floring\n",
        "print('-'*20)\n",
        "print('Pembagian Pembulatan Floring')\n",
        "print(3//2)\n"
      ],
      "execution_count": null,
      "outputs": []
    },
    {
      "cell_type": "markdown",
      "metadata": {
        "id": "CES6kYzfTuj6"
      },
      "source": [
        "Latihan Operator 1"
      ]
    },
    {
      "cell_type": "code",
      "metadata": {
        "id": "N6nqolrfTzb3"
      },
      "source": [
        "#Penjumlahan\n",
        "print('Penjumlahan')\n",
        "print(4+9)\n",
        "#Pengurangan\n",
        "print('-'*20)\n",
        "print('Pengurangan')\n",
        "print(9-7)\n",
        "#Perkalian\n",
        "print('-'*20)\n",
        "print('Perkalian')\n",
        "print(4*4)\n",
        "#Pembagian\n",
        "print('-'*20)\n",
        "print('Pembagian')\n",
        "print(18/9)\n",
        "#Modulus\n",
        "print('-'*20)\n",
        "print('Modulus')\n",
        "print(3%7)\n",
        "#Perpangkatan\n",
        "print('_'*20)\n",
        "print('Perpangkatan')\n",
        "print(9**3)\n",
        "#Pembagian Pembulatan Floring\n",
        "print('-'*20)\n",
        "print('Pembagian Pembulatan Floring')\n",
        "print(6//9)\n"
      ],
      "execution_count": null,
      "outputs": []
    },
    {
      "cell_type": "markdown",
      "metadata": {
        "id": "tYoJqoi2UcMX"
      },
      "source": [
        "#Operator Assigment"
      ]
    },
    {
      "cell_type": "markdown",
      "metadata": {
        "id": "-HByPkQcXJAt"
      },
      "source": [
        "Operator `assigment` digunakan untuk menyimpan nilai menjadi suatu variabel."
      ]
    },
    {
      "cell_type": "markdown",
      "metadata": {
        "id": "dGhDPgFuhz17"
      },
      "source": [
        "\n",
        "\n",
        "```\n",
        "=   : contohnya x = 5 -> x = 5\n",
        "+=  : contohnya x = x + 5 -> x += 5\n",
        "-=  : contohnya x = x - 5 -> x -= 5\n",
        "*=  : contohnya x = x * 5 -> x *= 5\n",
        "/=  : contohnya x = x / 5 -> x /= 5\n",
        "%=  : contohnya x = x % 5 -> x %= 5\n",
        "//= : contohnya x = x // 5 -> x //= 5\n",
        "**= : contohnya x = x ** 5 -> x **= 5\n",
        "```\n",
        "\n"
      ]
    },
    {
      "cell_type": "code",
      "metadata": {
        "id": "d-c9opcPXj1S"
      },
      "source": [
        "# Contoh penggunaan operator Assigment\n",
        "\n",
        "# Penjumlahan\n",
        "print('Penjumlahan')\n",
        "x=5\n",
        "x=x+5\n",
        "print(x)\n",
        "x=5\n",
        "x+=3\n",
        "print(x)\n",
        "print('-'*20)\n",
        "\n",
        "#Pengurangan\n",
        "print('Pengurangan')\n",
        "x=5\n",
        "x=x-5\n",
        "print(x)\n",
        "x=5\n",
        "x-=3\n",
        "print(x)\n",
        "print('-'*20)\n",
        "\n",
        "#Perkalian\n",
        "print('Perkalian')\n",
        "x=5\n",
        "x=x*5\n",
        "print(x)\n",
        "x=5\n",
        "x*=3\n",
        "print(x)\n",
        "print('-'*20)\n",
        "\n",
        "#Pembagian\n",
        "print('Pembagian')\n",
        "x=5\n",
        "x=x/5\n",
        "print(x)\n",
        "x=5\n",
        "x/=3\n",
        "print(x)\n",
        "print('-'*20)\n",
        "\n",
        "#Modulus\n",
        "print('Modulus')\n",
        "x=5\n",
        "x=x%5\n",
        "print(x)\n",
        "x=5\n",
        "x%=3\n",
        "print(x)\n",
        "print('-'*20)\n",
        "\n",
        "#Pembagian Floring\n",
        "print('Pembagian Floring')\n",
        "x=5\n",
        "x=x//5\n",
        "print(x)\n",
        "x=5\n",
        "x//=3\n",
        "print(x)\n",
        "print('-'*20)\n",
        "\n",
        "#Perpangkatan\n",
        "print('Perpangkatan')\n",
        "x=5\n",
        "x=x**5\n",
        "print(x)\n",
        "x=5\n",
        "x**=3\n",
        "print(x)\n",
        "print('-'*20)"
      ],
      "execution_count": null,
      "outputs": []
    },
    {
      "cell_type": "markdown",
      "metadata": {
        "id": "p3oz9nI2bVdd"
      },
      "source": [
        "Latihan Operator 2"
      ]
    },
    {
      "cell_type": "code",
      "metadata": {
        "id": "iGPpEXzBbaNh"
      },
      "source": [
        "# Penjumlahan\n",
        "print('Penjumlahan')\n",
        "x=6\n",
        "x=x+6\n",
        "print(x)\n",
        "x=6\n",
        "x+=4\n",
        "print(x)\n",
        "print('-'*20)\n",
        "\n",
        "#Pengurangan\n",
        "print('Pengurangan')\n",
        "x=3\n",
        "x=x-3\n",
        "print(x)\n",
        "x=3\n",
        "x-=9\n",
        "print(x)\n",
        "print('-'*20)\n",
        "\n",
        "#Perkalian\n",
        "print('Perkalian')\n",
        "x=5\n",
        "x=x*5\n",
        "print(x)\n",
        "x=5\n",
        "x*=4\n",
        "print(x)\n",
        "print('-'*20)\n",
        "\n",
        "#Pembagian\n",
        "print('Pembagian')\n",
        "x=8\n",
        "x=x/8\n",
        "print(x)\n",
        "x=8\n",
        "x/=4\n",
        "print(x)\n",
        "print('-'*20)\n",
        "\n",
        "#Modulus\n",
        "print('Modulus')\n",
        "x=6\n",
        "x=x%6\n",
        "print(x)\n",
        "x=6\n",
        "x%=2\n",
        "print(x)\n",
        "print('-'*20)\n",
        "\n",
        "#Pembagian Floring\n",
        "print('Pembagian Floring')\n",
        "x=4\n",
        "x=x//4\n",
        "print(x)\n",
        "x=4\n",
        "x//=4\n",
        "print(x)\n",
        "print('-'*20)\n",
        "\n",
        "#Perpangkatan\n",
        "print('Perpangkatan')\n",
        "x=8\n",
        "x=x**8\n",
        "print(x)\n",
        "x=8\n",
        "x**=2\n",
        "print(x)\n",
        "print('-'*20)"
      ],
      "execution_count": null,
      "outputs": []
    },
    {
      "cell_type": "markdown",
      "metadata": {
        "id": "U2nPTxWgcAaU"
      },
      "source": [
        "#Operator Pembanding"
      ]
    },
    {
      "cell_type": "markdown",
      "metadata": {
        "id": "TOM80y6ScFFM"
      },
      "source": [
        "Operator pembanding digunakan untuk membandingkan 2 nilai atau variabel.\n",
        "\n",
        "macam-macam operator pembanding :"
      ]
    },
    {
      "cell_type": "markdown",
      "metadata": {
        "id": "bEJT3v8NjZwV"
      },
      "source": [
        "\n",
        "\n",
        "```\n",
        "== -> samadengan\n",
        "!= -> tidak samadengan\n",
        ">  -> lebih dari\n",
        "<  -> kurang dari\n",
        ">= -> lebih dari dan samadengan\n",
        "<= -> kurang dari dan samadengan\n",
        "```\n",
        "\n"
      ]
    },
    {
      "cell_type": "code",
      "metadata": {
        "id": "CXwPOk6ccXvQ"
      },
      "source": [
        "# Contoh Penggunaan operator pembanding\n",
        "\n",
        "print(2==2)\n",
        "print(2!=2)\n",
        "print(2>2)\n",
        "print(2<2)\n",
        "print(2>=2)\n",
        "print(2<=2)"
      ],
      "execution_count": null,
      "outputs": []
    },
    {
      "cell_type": "markdown",
      "metadata": {
        "id": "3tufyeNMc3bL"
      },
      "source": [
        "Latihan Operator 3"
      ]
    },
    {
      "cell_type": "code",
      "metadata": {
        "id": "aWB9nROic6qi"
      },
      "source": [
        "print(6==6)\n",
        "print(4!=7)\n",
        "print(7>9)\n",
        "print(5<8)\n",
        "print(10>=7)\n",
        "print(2<=4)"
      ],
      "execution_count": null,
      "outputs": []
    },
    {
      "cell_type": "markdown",
      "metadata": {
        "id": "MLkDIIDBdTEF"
      },
      "source": [
        "#Operator Logika"
      ]
    },
    {
      "cell_type": "markdown",
      "metadata": {
        "id": "sJLcgPOKec76"
      },
      "source": [
        "Operator logiak digunakan untuk mengkombinasikan statment-statment kondisional.\n",
        "\n",
        "macam-macam operator logika:"
      ]
    },
    {
      "cell_type": "markdown",
      "metadata": {
        "id": "vRy8C00djydr"
      },
      "source": [
        "\n",
        "\n",
        "```\n",
        "and -> kondisi menjadi benar apabila semua statementnya benar\n",
        "or -> kondisi menjadi benar apabila salah satu statementnya ada yang benar\n",
        "not -> membalik hasil dari benar ke salah dan salah ke benar\n",
        "```\n",
        "\n"
      ]
    },
    {
      "cell_type": "code",
      "metadata": {
        "id": "Cv89vU9Dezpu"
      },
      "source": [
        "# Contoh penggunaan operator logika\n",
        "\n",
        "print(True and False)\n",
        "print(False or False)\n",
        "print(not False and True)"
      ],
      "execution_count": null,
      "outputs": []
    },
    {
      "cell_type": "markdown",
      "metadata": {
        "id": "vWWozfi-fI3Y"
      },
      "source": [
        "Latihan Operator 4"
      ]
    },
    {
      "cell_type": "code",
      "metadata": {
        "id": "pRfON8FEfMOt"
      },
      "source": [
        "print(False and False)\n",
        "print(False or True)\n",
        "print(not True and True)"
      ],
      "execution_count": null,
      "outputs": []
    },
    {
      "cell_type": "markdown",
      "metadata": {
        "id": "IT2YOZZFfMjp"
      },
      "source": [
        "#Operator Keanggotaan"
      ]
    },
    {
      "cell_type": "markdown",
      "metadata": {
        "id": "CHiiPfw7fShB"
      },
      "source": [
        "Operator keanggotaan digunakan untuk menguji apakah urutan disajikan dalam suatau objel.\n",
        "\n",
        "macam-macam operator keanggotaan:"
      ]
    },
    {
      "cell_type": "markdown",
      "metadata": {
        "id": "xJ7_zzeffsfu"
      },
      "source": [
        "\n",
        "\n",
        "```\n",
        "in     -> return True ketika nilai tertentu dalam sebuah urutan ada\n",
        "not in -> return True ketika nilai tertentu dalam sebuah urutan tidak ada\n",
        "```\n",
        "\n"
      ]
    },
    {
      "cell_type": "code",
      "metadata": {
        "id": "sL1VaVZigJpY"
      },
      "source": [
        "# Contoh penggunaan operator keanggotaan\n",
        "a=(1,2,3,4,5,6)\n",
        "b=2\n",
        "\n",
        "print(b in a)\n",
        "\n",
        "print('-'*20)\n",
        "a=(1,2,3,4,5,6)\n",
        "b=7\n",
        "print(b not in a)"
      ],
      "execution_count": null,
      "outputs": []
    },
    {
      "cell_type": "markdown",
      "metadata": {
        "id": "VsgX4kkSg0_9"
      },
      "source": [
        "Latihan Operator 5"
      ]
    },
    {
      "cell_type": "code",
      "metadata": {
        "id": "lAeylmrIg4mF"
      },
      "source": [
        "a=(2,3,5,7)\n",
        "b=11\n",
        "\n",
        "print(b in a)\n",
        "\n",
        "print('-'*20)\n",
        "a=(4,8,12,16,20)\n",
        "b=7\n",
        "print(b not in a)"
      ],
      "execution_count": null,
      "outputs": []
    }
  ]
}