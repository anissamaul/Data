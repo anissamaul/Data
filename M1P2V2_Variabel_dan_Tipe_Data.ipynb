{
  "nbformat": 4,
  "nbformat_minor": 0,
  "metadata": {
    "colab": {
      "name": "M1P2V2_Variabel_dan_Tipe_Data.ipynb",
      "provenance": []
    },
    "kernelspec": {
      "name": "python3",
      "display_name": "Python 3"
    },
    "language_info": {
      "name": "python"
    }
  },
  "cells": [
    {
      "cell_type": "markdown",
      "metadata": {
        "id": "KKm8GiJE1ePt"
      },
      "source": [
        "#Variabel & Tipe Data"
      ]
    },
    {
      "cell_type": "markdown",
      "metadata": {
        "id": "W-AGOHXD1igS"
      },
      "source": [
        "###Variabel"
      ]
    },
    {
      "cell_type": "markdown",
      "metadata": {
        "id": "O1YrC4xN1mZy"
      },
      "source": [
        "**Variabel** : Lokasi penyimpanan yang dapat digunakan untuk menampung sebuah data atau informasi.\n",
        "\n",
        "Syarat-syarat penamaan variabel \n",
        "1.   Karakter-karakter yang digunakan untuk penamaan variabel adalah alphabet, angka, dan underscore.\n",
        "2.   Karakter pertama variabel harus berupa huruf atau garis bawah/underscore, dan tidak bisa berupa angka.\n",
        "1.   Nama sebuah variabel tidak bisa menggunakan keyword atau reserved words dari bahasa python seperti for, if, dan lainnya.\n",
        "2.   Karakter pada nama variabel bersifat sensitif (case-sensitif)."
      ]
    },
    {
      "cell_type": "code",
      "metadata": {
        "id": "An1x9EE01t0V"
      },
      "source": [
        "# membuat variabel\n",
        "kalimat = 'ini adalah variabel'\n",
        "bilangan1 = 4\n",
        "bilangan2 = 2.5\n",
        "bilangan3 = True\n",
        "bilangan4 = 1j + 4"
      ],
      "execution_count": null,
      "outputs": []
    },
    {
      "cell_type": "code",
      "metadata": {
        "id": "Mp6udnAV1vAC"
      },
      "source": [
        "# menampilkan variabel\n",
        "print(kalimat)\n",
        "print(bilangan1)\n",
        "print(bilangan2)"
      ],
      "execution_count": null,
      "outputs": []
    },
    {
      "cell_type": "markdown",
      "metadata": {
        "id": "Q9LeadnL1xhE"
      },
      "source": [
        "Latihan 1"
      ]
    },
    {
      "cell_type": "code",
      "metadata": {
        "id": "5vmnaRmx10LK"
      },
      "source": [
        "# membuat variabel\n",
        "j = 'life goes on'\n",
        "j1 = 7\n",
        "j2 = 1.2\n",
        "j3 = False\n",
        "j4 = 23j + 7 "
      ],
      "execution_count": null,
      "outputs": []
    },
    {
      "cell_type": "code",
      "metadata": {
        "id": "QMlD-9Om19aS"
      },
      "source": [
        "# menampilkan variabel\n",
        "print(j)\n",
        "print(j1)\n",
        "print(j2)\n",
        "print(j3)\n",
        "print(j4)"
      ],
      "execution_count": null,
      "outputs": []
    },
    {
      "cell_type": "markdown",
      "metadata": {
        "id": "KbYuBf1r2Aui"
      },
      "source": [
        "###Tipe Data"
      ]
    },
    {
      "cell_type": "markdown",
      "metadata": {
        "id": "7UzrhJwO2EGV"
      },
      "source": [
        "5 tipe data yaitu\n",
        "1.   Integer atau bilangan bulat\n",
        "1.   Float atau bilangan desimal\n",
        "1.   String atau kalimat\n",
        "2.   Boolean yang terdiri dari True dan False\n",
        "2.   Complex yang merupakan bilangan kompleks"
      ]
    },
    {
      "cell_type": "code",
      "metadata": {
        "id": "wqD5YF8p2JE0"
      },
      "source": [
        "#menampilakan tipe data \n",
        "print(type(kalimat))\n",
        "print(type(bilangan1))\n",
        "print(type(bilangan2))\n",
        "print(type(bilangan3))\n",
        "print(type(bilangan4))"
      ],
      "execution_count": null,
      "outputs": []
    },
    {
      "cell_type": "markdown",
      "metadata": {
        "id": "6ClMMfQd2Mjq"
      },
      "source": [
        "Latihan 2"
      ]
    },
    {
      "cell_type": "code",
      "metadata": {
        "id": "ZpXQmDDE2NrK"
      },
      "source": [
        "#menampilakan tipe data \n",
        "print(type(j))\n",
        "print(type(j1))\n",
        "print(type(j2))\n",
        "print(type(j3))\n",
        "print(type(j4))"
      ],
      "execution_count": null,
      "outputs": []
    },
    {
      "cell_type": "markdown",
      "metadata": {
        "id": "gCs7uVdp2UuT"
      },
      "source": [
        "###Konversi Tipe Data"
      ]
    },
    {
      "cell_type": "markdown",
      "metadata": {
        "id": "E1UWJ9U12YKq"
      },
      "source": [
        "Syntax Konversi tipe data\n",
        "1.   Integer = int()\n",
        "2.   Float = float()\n",
        "1.   String = str()\n",
        "1.   Boolean = bool()\n",
        "2.   Complex = Complex()"
      ]
    },
    {
      "cell_type": "code",
      "metadata": {
        "id": "iNBmwFnR2eZl"
      },
      "source": [
        "# konversi tipe data integer\n",
        "print(int(bilangan2))\n",
        "print(int(bilangan3))"
      ],
      "execution_count": null,
      "outputs": []
    },
    {
      "cell_type": "code",
      "metadata": {
        "id": "-OjD7myi2_O6"
      },
      "source": [
        "# koversi tipe data float\n",
        "print(float(bilangan1))\n",
        "print(float(bilangan3))"
      ],
      "execution_count": null,
      "outputs": []
    },
    {
      "cell_type": "code",
      "metadata": {
        "id": "YPgOAVdD3bK7"
      },
      "source": [
        "# konversi tipe data string\n",
        "print(str(bilangan1))\n",
        "print(str(bilangan2))\n",
        "print(str(bilangan3))"
      ],
      "execution_count": null,
      "outputs": []
    },
    {
      "cell_type": "code",
      "metadata": {
        "id": "BGGh6ZZu3MA6"
      },
      "source": [
        "# koversi tipe data bool\n",
        "print(bool(bilangan1))\n",
        "print(bool(bilangan2))"
      ],
      "execution_count": null,
      "outputs": []
    },
    {
      "cell_type": "code",
      "metadata": {
        "id": "3KLuwbWK33rJ"
      },
      "source": [
        "# konversi tipe data complex\n",
        "print(complex(bilangan1))\n",
        "print(complex(bilangan2))\n",
        "print(complex(bilangan3))"
      ],
      "execution_count": null,
      "outputs": []
    },
    {
      "cell_type": "markdown",
      "metadata": {
        "id": "agc0sF1v4OEK"
      },
      "source": [
        "Latihan 3"
      ]
    },
    {
      "cell_type": "code",
      "metadata": {
        "id": "qYLirX9d4TEf"
      },
      "source": [
        "# konversi tipe data integer\n",
        "print(int(j1))\n",
        "print(int(j2))\n",
        "print(int(j3))"
      ],
      "execution_count": null,
      "outputs": []
    },
    {
      "cell_type": "code",
      "metadata": {
        "id": "c17eTuW64rnO"
      },
      "source": [
        "# koversi tipe data float\n",
        "print(float(j2))\n",
        "print(float(j3))"
      ],
      "execution_count": null,
      "outputs": []
    },
    {
      "cell_type": "code",
      "metadata": {
        "id": "FHiUyUkC48_j"
      },
      "source": [
        "# konversi tipe data string\n",
        "print(str(j))\n",
        "print(str(j2))\n",
        "print(str(j3))"
      ],
      "execution_count": null,
      "outputs": []
    },
    {
      "cell_type": "code",
      "metadata": {
        "id": "bAsgFWcf5H50"
      },
      "source": [
        "# koversi tipe data bool\n",
        "print(bool(j2))\n",
        "print(bool(j3))\n",
        "print(bool(j4))"
      ],
      "execution_count": null,
      "outputs": []
    },
    {
      "cell_type": "code",
      "metadata": {
        "id": "03PhOb505WHa"
      },
      "source": [
        "# konversi tipe data complex\n",
        "print(complex(j1))\n",
        "print(complex(j2))\n",
        "print(complex(j4))"
      ],
      "execution_count": null,
      "outputs": []
    }
  ]
}