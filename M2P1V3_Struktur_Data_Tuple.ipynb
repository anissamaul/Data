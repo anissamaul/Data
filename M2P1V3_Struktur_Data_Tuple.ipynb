{
  "nbformat": 4,
  "nbformat_minor": 0,
  "metadata": {
    "colab": {
      "name": "M2P1V3_Struktur_Data_Tuple.ipynb",
      "provenance": [],
      "collapsed_sections": []
    },
    "kernelspec": {
      "name": "python3",
      "display_name": "Python 3"
    },
    "language_info": {
      "name": "python"
    }
  },
  "cells": [
    {
      "cell_type": "markdown",
      "metadata": {
        "id": "s6dRlg8wICaF"
      },
      "source": [
        "##Struktur Data Tuple"
      ]
    },
    {
      "cell_type": "markdown",
      "metadata": {
        "id": "30RXclkdIKlB"
      },
      "source": [
        "Tuple adalah jenis dari struktur data yang tidak dapat diubah elemennya. Umumnya tuple digunakan untuk data yang bersifat sekali tulis, dan dapat dieksekusi lebih cepat. Tuple didefinisikan dengan kurung dan elemen yang dipisahakan dengan koma."
      ]
    },
    {
      "cell_type": "code",
      "metadata": {
        "id": "2ufsly4YIuYP",
        "colab": {
          "base_uri": "https://localhost:8080/"
        },
        "outputId": "bab592c9-d97f-4bdd-fb11-e838cef50774"
      },
      "source": [
        "#Contoh Tuple\n",
        "T1 = (1, \"dua\", True, 1+2j)\n",
        "print(\"ini adalah tuple\", T1)"
      ],
      "execution_count": 1,
      "outputs": [
        {
          "output_type": "stream",
          "name": "stdout",
          "text": [
            "ini adalah tuple (1, 'dua', True, (1+2j))\n"
          ]
        }
      ]
    },
    {
      "cell_type": "code",
      "metadata": {
        "id": "T56WZ1kXJCSN",
        "colab": {
          "base_uri": "https://localhost:8080/"
        },
        "outputId": "876ccd53-ee33-424a-849d-5e8fe7ffb1f6"
      },
      "source": [
        "#Menampilkan tipe struktur data\n",
        "type(T1)"
      ],
      "execution_count": 2,
      "outputs": [
        {
          "output_type": "execute_result",
          "data": {
            "text/plain": [
              "tuple"
            ]
          },
          "metadata": {},
          "execution_count": 2
        }
      ]
    },
    {
      "cell_type": "markdown",
      "metadata": {
        "id": "vs1IdW6_JKZ2"
      },
      "source": [
        "Latihan"
      ]
    },
    {
      "cell_type": "code",
      "metadata": {
        "id": "TxM2TtlzJMC5",
        "colab": {
          "base_uri": "https://localhost:8080/"
        },
        "outputId": "a0b4edf7-50ed-453c-f5d9-bc52219697f6"
      },
      "source": [
        "#Buatlah tuplemu sendiri\n",
        "BG = (\"2PM\",\"Suju\",\"EXO\",\"NCT\")\n",
        "print(\"ini adalah boy group dari SM\",BG)\n",
        "type(BG)"
      ],
      "execution_count": 10,
      "outputs": [
        {
          "output_type": "stream",
          "name": "stdout",
          "text": [
            "ini adalah boy group dari SM ('2PM', 'Suju', 'EXO', 'NCT')\n"
          ]
        },
        {
          "output_type": "execute_result",
          "data": {
            "text/plain": [
              "tuple"
            ]
          },
          "metadata": {},
          "execution_count": 10
        }
      ]
    },
    {
      "cell_type": "markdown",
      "metadata": {
        "id": "mnlvK_n8JQ_w"
      },
      "source": [
        "Sifat-sifat Tuple"
      ]
    },
    {
      "cell_type": "code",
      "metadata": {
        "id": "pT4khAgjJT7G",
        "colab": {
          "base_uri": "https://localhost:8080/"
        },
        "outputId": "227a90b5-c9f9-4f19-ffb1-d618dd72e6cb"
      },
      "source": [
        "#Terurut/Ordered\n",
        "T1[0:3]"
      ],
      "execution_count": 4,
      "outputs": [
        {
          "output_type": "execute_result",
          "data": {
            "text/plain": [
              "(1, 'dua', True)"
            ]
          },
          "metadata": {},
          "execution_count": 4
        }
      ]
    },
    {
      "cell_type": "code",
      "metadata": {
        "id": "aPiRSlYZJbAN",
        "colab": {
          "base_uri": "https://localhost:8080/",
          "height": 180
        },
        "outputId": "d5e87f7a-5abc-4c0b-caaf-0a48ce4a1f7d"
      },
      "source": [
        "#Tidak Bisa Diganti/Immutable\n",
        "T1[2] = \"manusia\""
      ],
      "execution_count": 5,
      "outputs": [
        {
          "output_type": "error",
          "ename": "TypeError",
          "evalue": "ignored",
          "traceback": [
            "\u001b[0;31m---------------------------------------------------------------------------\u001b[0m",
            "\u001b[0;31mTypeError\u001b[0m                                 Traceback (most recent call last)",
            "\u001b[0;32m<ipython-input-5-48d7e760e849>\u001b[0m in \u001b[0;36m<module>\u001b[0;34m()\u001b[0m\n\u001b[1;32m      1\u001b[0m \u001b[0;31m#Tidak Bisa Diganti/Immutable\u001b[0m\u001b[0;34m\u001b[0m\u001b[0;34m\u001b[0m\u001b[0;34m\u001b[0m\u001b[0m\n\u001b[0;32m----> 2\u001b[0;31m \u001b[0mT1\u001b[0m\u001b[0;34m[\u001b[0m\u001b[0;36m2\u001b[0m\u001b[0;34m]\u001b[0m \u001b[0;34m=\u001b[0m \u001b[0;34m\"manusia\"\u001b[0m\u001b[0;34m\u001b[0m\u001b[0;34m\u001b[0m\u001b[0m\n\u001b[0m",
            "\u001b[0;31mTypeError\u001b[0m: 'tuple' object does not support item assignment"
          ]
        }
      ]
    },
    {
      "cell_type": "code",
      "metadata": {
        "id": "JTQRwpsWJqmY",
        "colab": {
          "base_uri": "https://localhost:8080/"
        },
        "outputId": "047494c9-6bcb-4b0f-b1d0-470b2120d81c"
      },
      "source": [
        "#Dapat Diindeks/Slicing\n",
        "print(\"elemen kedua dari tuple T1 adalah:\", T1[1])"
      ],
      "execution_count": 6,
      "outputs": [
        {
          "output_type": "stream",
          "name": "stdout",
          "text": [
            "elemen kedua dari tuple T1 adalah: dua\n"
          ]
        }
      ]
    },
    {
      "cell_type": "code",
      "metadata": {
        "id": "82nwnD3MJ4rb",
        "colab": {
          "base_uri": "https://localhost:8080/"
        },
        "outputId": "acd3a542-70de-4308-dbc0-103c2a073dbf"
      },
      "source": [
        "#Dapat Diijinkan Duplikasi\n",
        "T2 = (3, 2.4, True, 2.4)\n",
        "T2"
      ],
      "execution_count": 7,
      "outputs": [
        {
          "output_type": "execute_result",
          "data": {
            "text/plain": [
              "(3, 2.4, True, 2.4)"
            ]
          },
          "metadata": {},
          "execution_count": 7
        }
      ]
    },
    {
      "cell_type": "markdown",
      "metadata": {
        "id": "pEnQTm9XKDQJ"
      },
      "source": [
        "Menggabungkan tuple"
      ]
    },
    {
      "cell_type": "code",
      "metadata": {
        "id": "kiyXe0pOKF6e",
        "colab": {
          "base_uri": "https://localhost:8080/"
        },
        "outputId": "a14bcfa6-970e-480f-d706-d8d31ad9fced"
      },
      "source": [
        "# Menggabungkan Tuple\n",
        "T3 = T1 + T2\n",
        "T3"
      ],
      "execution_count": 8,
      "outputs": [
        {
          "output_type": "execute_result",
          "data": {
            "text/plain": [
              "(1, 'dua', True, (1+2j), 3, 2.4, True, 2.4)"
            ]
          },
          "metadata": {},
          "execution_count": 8
        }
      ]
    },
    {
      "cell_type": "markdown",
      "metadata": {
        "id": "c4TDuS37KNDo"
      },
      "source": [
        "Latihan 2"
      ]
    },
    {
      "cell_type": "code",
      "metadata": {
        "id": "GzpCTPVXKPCN",
        "colab": {
          "base_uri": "https://localhost:8080/"
        },
        "outputId": "9408f92c-edb3-43d0-937e-dbf521b53d10"
      },
      "source": [
        "#Buatlah tuple kedua lalu gabungkan 2 tuple yang telah kamu buat\n",
        "GG = (\"SNSD\",\"Fx\",\"Red velvet\",\"Aespa\")\n",
        "print(\"ini adalah girl gruop dari SM\",GG)\n",
        "print(\"-\"*20)\n",
        "\n",
        "#Gabungkan 2 tuple\n",
        "SM = BG + GG\n",
        "print(SM)"
      ],
      "execution_count": 11,
      "outputs": [
        {
          "output_type": "stream",
          "name": "stdout",
          "text": [
            "ini adalah girl gruop dari SM ('SNSD', 'Fx', 'Red velvet', 'Aespa')\n",
            "--------------------\n",
            "('2PM', 'Suju', 'EXO', 'NCT', 'SNSD', 'Fx', 'Red velvet', 'Aespa')\n"
          ]
        }
      ]
    }
  ]
}